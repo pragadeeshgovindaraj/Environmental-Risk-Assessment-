{
 "cells": [
  {
   "cell_type": "markdown",
   "id": "e120b0a5",
   "metadata": {},
   "source": [
    "# Data Preprocessing  "
   ]
  },
  {
   "cell_type": "code",
   "execution_count": 440,
   "id": "3d832cfe",
   "metadata": {},
   "outputs": [],
   "source": [
    "import numpy as np\n",
    "import pandas as pd"
   ]
  },
  {
   "cell_type": "code",
   "execution_count": 441,
   "id": "9ada7a6c",
   "metadata": {},
   "outputs": [],
   "source": [
    "data = pd.read_csv(R'D:\\Concordia\\Systems Analytics\\Assignment 1\\Data_affected area_modified.csv')"
   ]
  },
  {
   "cell_type": "code",
   "execution_count": 442,
   "id": "e97aa5d5",
   "metadata": {},
   "outputs": [
    {
     "name": "stdout",
     "output_type": "stream",
     "text": [
      "<class 'pandas.core.frame.DataFrame'>\n",
      "RangeIndex: 517 entries, 0 to 516\n",
      "Data columns (total 13 columns):\n",
      " #   Column  Non-Null Count  Dtype  \n",
      "---  ------  --------------  -----  \n",
      " 0   X       517 non-null    int64  \n",
      " 1   Y       515 non-null    float64\n",
      " 2   month   517 non-null    object \n",
      " 3   day     517 non-null    object \n",
      " 4   A       515 non-null    float64\n",
      " 5   B       517 non-null    float64\n",
      " 6   C       517 non-null    float64\n",
      " 7   D       517 non-null    float64\n",
      " 8   temp    517 non-null    float64\n",
      " 9   RH      516 non-null    float64\n",
      " 10  wind    517 non-null    float64\n",
      " 11  rain    517 non-null    float64\n",
      " 12  area    517 non-null    float64\n",
      "dtypes: float64(10), int64(1), object(2)\n",
      "memory usage: 52.6+ KB\n"
     ]
    }
   ],
   "source": [
    "data.info()\n",
    "    #After projecting the data info, it is clear that there are less null values."
   ]
  },
  {
   "cell_type": "code",
   "execution_count": 443,
   "id": "0b46c3f7",
   "metadata": {},
   "outputs": [
    {
     "data": {
      "text/plain": [
       "X         11\n",
       "Y          7\n",
       "month     13\n",
       "day        7\n",
       "A        109\n",
       "B        215\n",
       "C        219\n",
       "D        119\n",
       "temp     192\n",
       "RH        76\n",
       "wind      21\n",
       "rain       7\n",
       "area     251\n",
       "dtype: int64"
      ]
     },
     "execution_count": 443,
     "metadata": {},
     "output_type": "execute_result"
    }
   ],
   "source": [
    "data.nunique()"
   ]
  },
  {
   "cell_type": "code",
   "execution_count": 444,
   "id": "5ba954bc",
   "metadata": {},
   "outputs": [
    {
     "data": {
      "text/plain": [
       "X        0\n",
       "Y        2\n",
       "month    0\n",
       "day      0\n",
       "A        2\n",
       "B        0\n",
       "C        0\n",
       "D        0\n",
       "temp     0\n",
       "RH       1\n",
       "wind     0\n",
       "rain     0\n",
       "area     0\n",
       "dtype: int64"
      ]
     },
     "execution_count": 444,
     "metadata": {},
     "output_type": "execute_result"
    }
   ],
   "source": [
    "data.isnull().sum() "
   ]
  },
  {
   "cell_type": "markdown",
   "id": "2b58eb11",
   "metadata": {},
   "source": [
    "Here, there are only 5 rows of null values, so lets drop those rows."
   ]
  },
  {
   "cell_type": "code",
   "execution_count": 445,
   "id": "d6d1fb8f",
   "metadata": {},
   "outputs": [],
   "source": [
    "data= data.dropna()"
   ]
  },
  {
   "cell_type": "code",
   "execution_count": 446,
   "id": "9725415c",
   "metadata": {},
   "outputs": [
    {
     "data": {
      "text/plain": [
       "X        0\n",
       "Y        0\n",
       "month    0\n",
       "day      0\n",
       "A        0\n",
       "B        0\n",
       "C        0\n",
       "D        0\n",
       "temp     0\n",
       "RH       0\n",
       "wind     0\n",
       "rain     0\n",
       "area     0\n",
       "dtype: int64"
      ]
     },
     "execution_count": 446,
     "metadata": {},
     "output_type": "execute_result"
    }
   ],
   "source": [
    "data.isnull().sum() "
   ]
  },
  {
   "cell_type": "code",
   "execution_count": 447,
   "id": "751f7260",
   "metadata": {},
   "outputs": [
    {
     "data": {
      "text/html": [
       "<div>\n",
       "<style scoped>\n",
       "    .dataframe tbody tr th:only-of-type {\n",
       "        vertical-align: middle;\n",
       "    }\n",
       "\n",
       "    .dataframe tbody tr th {\n",
       "        vertical-align: top;\n",
       "    }\n",
       "\n",
       "    .dataframe thead th {\n",
       "        text-align: right;\n",
       "    }\n",
       "</style>\n",
       "<table border=\"1\" class=\"dataframe\">\n",
       "  <thead>\n",
       "    <tr style=\"text-align: right;\">\n",
       "      <th></th>\n",
       "      <th>X</th>\n",
       "      <th>Y</th>\n",
       "      <th>A</th>\n",
       "      <th>B</th>\n",
       "      <th>C</th>\n",
       "      <th>D</th>\n",
       "      <th>temp</th>\n",
       "      <th>RH</th>\n",
       "      <th>wind</th>\n",
       "      <th>rain</th>\n",
       "      <th>area</th>\n",
       "    </tr>\n",
       "  </thead>\n",
       "  <tbody>\n",
       "    <tr>\n",
       "      <th>count</th>\n",
       "      <td>512.000000</td>\n",
       "      <td>512.000000</td>\n",
       "      <td>512.000000</td>\n",
       "      <td>512.000000</td>\n",
       "      <td>512.000000</td>\n",
       "      <td>512.000000</td>\n",
       "      <td>512.000000</td>\n",
       "      <td>512.000000</td>\n",
       "      <td>512.000000</td>\n",
       "      <td>512.000000</td>\n",
       "      <td>512.000000</td>\n",
       "    </tr>\n",
       "    <tr>\n",
       "      <th>mean</th>\n",
       "      <td>4.953125</td>\n",
       "      <td>4.296875</td>\n",
       "      <td>90.627344</td>\n",
       "      <td>111.008984</td>\n",
       "      <td>547.890820</td>\n",
       "      <td>9.004687</td>\n",
       "      <td>18.861133</td>\n",
       "      <td>44.667969</td>\n",
       "      <td>4.021094</td>\n",
       "      <td>0.021875</td>\n",
       "      <td>12.972754</td>\n",
       "    </tr>\n",
       "    <tr>\n",
       "      <th>std</th>\n",
       "      <td>5.280929</td>\n",
       "      <td>1.231418</td>\n",
       "      <td>10.512650</td>\n",
       "      <td>64.186238</td>\n",
       "      <td>248.191938</td>\n",
       "      <td>4.521674</td>\n",
       "      <td>5.800759</td>\n",
       "      <td>17.747498</td>\n",
       "      <td>1.797101</td>\n",
       "      <td>0.297396</td>\n",
       "      <td>63.953740</td>\n",
       "    </tr>\n",
       "    <tr>\n",
       "      <th>min</th>\n",
       "      <td>1.000000</td>\n",
       "      <td>2.000000</td>\n",
       "      <td>0.000000</td>\n",
       "      <td>1.100000</td>\n",
       "      <td>7.900000</td>\n",
       "      <td>0.000000</td>\n",
       "      <td>2.200000</td>\n",
       "      <td>15.000000</td>\n",
       "      <td>0.400000</td>\n",
       "      <td>0.000000</td>\n",
       "      <td>0.000000</td>\n",
       "    </tr>\n",
       "    <tr>\n",
       "      <th>25%</th>\n",
       "      <td>3.000000</td>\n",
       "      <td>4.000000</td>\n",
       "      <td>90.200000</td>\n",
       "      <td>67.025000</td>\n",
       "      <td>436.600000</td>\n",
       "      <td>6.475000</td>\n",
       "      <td>15.500000</td>\n",
       "      <td>32.750000</td>\n",
       "      <td>2.700000</td>\n",
       "      <td>0.000000</td>\n",
       "      <td>0.000000</td>\n",
       "    </tr>\n",
       "    <tr>\n",
       "      <th>50%</th>\n",
       "      <td>4.000000</td>\n",
       "      <td>4.000000</td>\n",
       "      <td>91.600000</td>\n",
       "      <td>108.300000</td>\n",
       "      <td>664.200000</td>\n",
       "      <td>8.400000</td>\n",
       "      <td>19.300000</td>\n",
       "      <td>42.000000</td>\n",
       "      <td>4.000000</td>\n",
       "      <td>0.000000</td>\n",
       "      <td>0.580000</td>\n",
       "    </tr>\n",
       "    <tr>\n",
       "      <th>75%</th>\n",
       "      <td>7.000000</td>\n",
       "      <td>5.000000</td>\n",
       "      <td>92.900000</td>\n",
       "      <td>142.400000</td>\n",
       "      <td>714.000000</td>\n",
       "      <td>10.725000</td>\n",
       "      <td>22.800000</td>\n",
       "      <td>54.000000</td>\n",
       "      <td>5.025000</td>\n",
       "      <td>0.000000</td>\n",
       "      <td>6.587500</td>\n",
       "    </tr>\n",
       "    <tr>\n",
       "      <th>max</th>\n",
       "      <td>90.000000</td>\n",
       "      <td>9.000000</td>\n",
       "      <td>250.000000</td>\n",
       "      <td>291.300000</td>\n",
       "      <td>860.600000</td>\n",
       "      <td>56.100000</td>\n",
       "      <td>33.300000</td>\n",
       "      <td>200.000000</td>\n",
       "      <td>9.400000</td>\n",
       "      <td>6.400000</td>\n",
       "      <td>1090.840000</td>\n",
       "    </tr>\n",
       "  </tbody>\n",
       "</table>\n",
       "</div>"
      ],
      "text/plain": [
       "                X           Y           A           B           C           D  \\\n",
       "count  512.000000  512.000000  512.000000  512.000000  512.000000  512.000000   \n",
       "mean     4.953125    4.296875   90.627344  111.008984  547.890820    9.004687   \n",
       "std      5.280929    1.231418   10.512650   64.186238  248.191938    4.521674   \n",
       "min      1.000000    2.000000    0.000000    1.100000    7.900000    0.000000   \n",
       "25%      3.000000    4.000000   90.200000   67.025000  436.600000    6.475000   \n",
       "50%      4.000000    4.000000   91.600000  108.300000  664.200000    8.400000   \n",
       "75%      7.000000    5.000000   92.900000  142.400000  714.000000   10.725000   \n",
       "max     90.000000    9.000000  250.000000  291.300000  860.600000   56.100000   \n",
       "\n",
       "             temp          RH        wind        rain         area  \n",
       "count  512.000000  512.000000  512.000000  512.000000   512.000000  \n",
       "mean    18.861133   44.667969    4.021094    0.021875    12.972754  \n",
       "std      5.800759   17.747498    1.797101    0.297396    63.953740  \n",
       "min      2.200000   15.000000    0.400000    0.000000     0.000000  \n",
       "25%     15.500000   32.750000    2.700000    0.000000     0.000000  \n",
       "50%     19.300000   42.000000    4.000000    0.000000     0.580000  \n",
       "75%     22.800000   54.000000    5.025000    0.000000     6.587500  \n",
       "max     33.300000  200.000000    9.400000    6.400000  1090.840000  "
      ]
     },
     "execution_count": 447,
     "metadata": {},
     "output_type": "execute_result"
    }
   ],
   "source": [
    "data.describe()"
   ]
  },
  {
   "cell_type": "markdown",
   "id": "5f4a7087",
   "metadata": {},
   "source": [
    "### Based on the above discription, the column X, A and RH has values out of the context. "
   ]
  },
  {
   "cell_type": "code",
   "execution_count": 448,
   "id": "39db6aba",
   "metadata": {},
   "outputs": [
    {
     "data": {
      "text/html": [
       "<div>\n",
       "<style scoped>\n",
       "    .dataframe tbody tr th:only-of-type {\n",
       "        vertical-align: middle;\n",
       "    }\n",
       "\n",
       "    .dataframe tbody tr th {\n",
       "        vertical-align: top;\n",
       "    }\n",
       "\n",
       "    .dataframe thead th {\n",
       "        text-align: right;\n",
       "    }\n",
       "</style>\n",
       "<table border=\"1\" class=\"dataframe\">\n",
       "  <thead>\n",
       "    <tr style=\"text-align: right;\">\n",
       "      <th></th>\n",
       "      <th>X</th>\n",
       "      <th>Y</th>\n",
       "      <th>A</th>\n",
       "      <th>B</th>\n",
       "      <th>C</th>\n",
       "      <th>D</th>\n",
       "      <th>temp</th>\n",
       "      <th>RH</th>\n",
       "      <th>wind</th>\n",
       "      <th>rain</th>\n",
       "      <th>area</th>\n",
       "    </tr>\n",
       "  </thead>\n",
       "  <tbody>\n",
       "    <tr>\n",
       "      <th>count</th>\n",
       "      <td>506.000000</td>\n",
       "      <td>506.000000</td>\n",
       "      <td>506.000000</td>\n",
       "      <td>506.000000</td>\n",
       "      <td>506.000000</td>\n",
       "      <td>506.000000</td>\n",
       "      <td>506.000000</td>\n",
       "      <td>506.000000</td>\n",
       "      <td>506.000000</td>\n",
       "      <td>506.000000</td>\n",
       "      <td>506.000000</td>\n",
       "    </tr>\n",
       "    <tr>\n",
       "      <th>mean</th>\n",
       "      <td>4.658103</td>\n",
       "      <td>4.290514</td>\n",
       "      <td>90.659091</td>\n",
       "      <td>111.148024</td>\n",
       "      <td>547.068379</td>\n",
       "      <td>8.992095</td>\n",
       "      <td>18.866008</td>\n",
       "      <td>44.428854</td>\n",
       "      <td>4.018182</td>\n",
       "      <td>0.022134</td>\n",
       "      <td>13.084605</td>\n",
       "    </tr>\n",
       "    <tr>\n",
       "      <th>std</th>\n",
       "      <td>2.327558</td>\n",
       "      <td>1.236647</td>\n",
       "      <td>5.481274</td>\n",
       "      <td>64.434763</td>\n",
       "      <td>248.126794</td>\n",
       "      <td>4.534145</td>\n",
       "      <td>5.828631</td>\n",
       "      <td>16.376870</td>\n",
       "      <td>1.799930</td>\n",
       "      <td>0.299148</td>\n",
       "      <td>64.319630</td>\n",
       "    </tr>\n",
       "    <tr>\n",
       "      <th>min</th>\n",
       "      <td>1.000000</td>\n",
       "      <td>2.000000</td>\n",
       "      <td>18.700000</td>\n",
       "      <td>1.100000</td>\n",
       "      <td>7.900000</td>\n",
       "      <td>0.000000</td>\n",
       "      <td>2.200000</td>\n",
       "      <td>15.000000</td>\n",
       "      <td>0.400000</td>\n",
       "      <td>0.000000</td>\n",
       "      <td>0.000000</td>\n",
       "    </tr>\n",
       "    <tr>\n",
       "      <th>25%</th>\n",
       "      <td>3.000000</td>\n",
       "      <td>4.000000</td>\n",
       "      <td>90.200000</td>\n",
       "      <td>63.875000</td>\n",
       "      <td>434.400000</td>\n",
       "      <td>6.425000</td>\n",
       "      <td>15.500000</td>\n",
       "      <td>33.000000</td>\n",
       "      <td>2.700000</td>\n",
       "      <td>0.000000</td>\n",
       "      <td>0.000000</td>\n",
       "    </tr>\n",
       "    <tr>\n",
       "      <th>50%</th>\n",
       "      <td>4.000000</td>\n",
       "      <td>4.000000</td>\n",
       "      <td>91.600000</td>\n",
       "      <td>108.300000</td>\n",
       "      <td>661.800000</td>\n",
       "      <td>8.400000</td>\n",
       "      <td>19.300000</td>\n",
       "      <td>42.000000</td>\n",
       "      <td>4.000000</td>\n",
       "      <td>0.000000</td>\n",
       "      <td>0.645000</td>\n",
       "    </tr>\n",
       "    <tr>\n",
       "      <th>75%</th>\n",
       "      <td>7.000000</td>\n",
       "      <td>5.000000</td>\n",
       "      <td>92.900000</td>\n",
       "      <td>142.400000</td>\n",
       "      <td>713.900000</td>\n",
       "      <td>10.700000</td>\n",
       "      <td>22.800000</td>\n",
       "      <td>53.750000</td>\n",
       "      <td>4.900000</td>\n",
       "      <td>0.000000</td>\n",
       "      <td>6.602500</td>\n",
       "    </tr>\n",
       "    <tr>\n",
       "      <th>max</th>\n",
       "      <td>9.000000</td>\n",
       "      <td>9.000000</td>\n",
       "      <td>96.200000</td>\n",
       "      <td>291.300000</td>\n",
       "      <td>860.600000</td>\n",
       "      <td>56.100000</td>\n",
       "      <td>33.300000</td>\n",
       "      <td>100.000000</td>\n",
       "      <td>9.400000</td>\n",
       "      <td>6.400000</td>\n",
       "      <td>1090.840000</td>\n",
       "    </tr>\n",
       "  </tbody>\n",
       "</table>\n",
       "</div>"
      ],
      "text/plain": [
       "                X           Y           A           B           C           D  \\\n",
       "count  506.000000  506.000000  506.000000  506.000000  506.000000  506.000000   \n",
       "mean     4.658103    4.290514   90.659091  111.148024  547.068379    8.992095   \n",
       "std      2.327558    1.236647    5.481274   64.434763  248.126794    4.534145   \n",
       "min      1.000000    2.000000   18.700000    1.100000    7.900000    0.000000   \n",
       "25%      3.000000    4.000000   90.200000   63.875000  434.400000    6.425000   \n",
       "50%      4.000000    4.000000   91.600000  108.300000  661.800000    8.400000   \n",
       "75%      7.000000    5.000000   92.900000  142.400000  713.900000   10.700000   \n",
       "max      9.000000    9.000000   96.200000  291.300000  860.600000   56.100000   \n",
       "\n",
       "             temp          RH        wind        rain         area  \n",
       "count  506.000000  506.000000  506.000000  506.000000   506.000000  \n",
       "mean    18.866008   44.428854    4.018182    0.022134    13.084605  \n",
       "std      5.828631   16.376870    1.799930    0.299148    64.319630  \n",
       "min      2.200000   15.000000    0.400000    0.000000     0.000000  \n",
       "25%     15.500000   33.000000    2.700000    0.000000     0.000000  \n",
       "50%     19.300000   42.000000    4.000000    0.000000     0.645000  \n",
       "75%     22.800000   53.750000    4.900000    0.000000     6.602500  \n",
       "max     33.300000  100.000000    9.400000    6.400000  1090.840000  "
      ]
     },
     "execution_count": 448,
     "metadata": {},
     "output_type": "execute_result"
    }
   ],
   "source": [
    "#Applying the range restriction to the columns X, A and RH. \n",
    "df = data[(data['X'] <= 9) &  (data['A'] >= 18.7) & (data['A'] <= 96.20) & (data['RH'] <= 100)]\n",
    "df.describe()"
   ]
  },
  {
   "cell_type": "code",
   "execution_count": 449,
   "id": "880469f7",
   "metadata": {},
   "outputs": [],
   "source": [
    "    df = df.drop_duplicates()"
   ]
  },
  {
   "cell_type": "code",
   "execution_count": 450,
   "id": "e0a62c1f",
   "metadata": {},
   "outputs": [
    {
     "data": {
      "text/plain": [
       "(503, 13)"
      ]
     },
     "execution_count": 450,
     "metadata": {},
     "output_type": "execute_result"
    }
   ],
   "source": [
    "df.shape"
   ]
  },
  {
   "cell_type": "markdown",
   "id": "3bb79512",
   "metadata": {},
   "source": [
    "df is the new dataset after removing outliers."
   ]
  },
  {
   "cell_type": "code",
   "execution_count": 451,
   "id": "3cbf319e",
   "metadata": {},
   "outputs": [
    {
     "name": "stdout",
     "output_type": "stream",
     "text": [
      "     X    Y  month  day     A      B      C     D  temp    RH  wind  rain  \\\n",
      "0    7  5.0      3    5  86.2   26.2   94.3   5.1   8.2  51.0   6.7   0.0   \n",
      "1    7  4.0     10    2  90.6   35.4  669.1   6.7  18.0  33.0   0.9   0.0   \n",
      "2    7  4.0     10    6  90.6   43.7  686.9   6.7  14.6  33.0   1.3   0.0   \n",
      "3    8  6.0      3    5  91.7   33.3   77.5   9.0   8.3  97.0   4.0   0.2   \n",
      "4    8  6.0      3    7  89.3   51.3  102.2   9.6  11.4  99.0   1.8   0.0   \n",
      "..  ..  ...    ...  ...   ...    ...    ...   ...   ...   ...   ...   ...   \n",
      "512  4  3.0      8    7  81.6   56.7  665.6   1.9  27.8  32.0   2.7   0.0   \n",
      "513  2  4.0      8    7  81.6   56.7  665.6   1.9  21.9  71.0   5.8   0.0   \n",
      "514  7  4.0      8    7  81.6   56.7  665.6   1.9  21.2  70.0   6.7   0.0   \n",
      "515  1  4.0      8    6  94.4  146.0  614.7  11.3  25.6  42.0   4.0   0.0   \n",
      "516  6  3.0     11    2  79.5    3.0  106.7   1.1  11.8  31.0   4.5   0.0   \n",
      "\n",
      "      area  \n",
      "0     0.00  \n",
      "1     0.00  \n",
      "2     0.00  \n",
      "3     0.00  \n",
      "4     0.00  \n",
      "..     ...  \n",
      "512   6.44  \n",
      "513  54.29  \n",
      "514  11.16  \n",
      "515   0.00  \n",
      "516   0.00  \n",
      "\n",
      "[503 rows x 13 columns]\n"
     ]
    }
   ],
   "source": [
    "month_mapping = {\n",
    "    'jan': 1,\n",
    "    'feb': 2,\n",
    "    'mar': 3,\n",
    "    'apr': 4,\n",
    "    'may': 5,\n",
    "    'jun': 6,\n",
    "    'jul': 7,\n",
    "    'aug': 8,\n",
    "    'sep': 9,\n",
    "    'oct': 10,\n",
    "    'nov': 11,\n",
    "    'dec': 12\n",
    "}\n",
    "\n",
    "day_mapping = {\n",
    "    'mon': 1,\n",
    "    'tue': 2,\n",
    "    'wed': 3,\n",
    "    'thu': 4,\n",
    "    'fri': 5,\n",
    "    'sat': 6,\n",
    "    'sun': 7\n",
    "}\n",
    "\n",
    "# Apply the mapping to create a updated numerical values for the categorical data.\n",
    "df['day'] = df['day'].map(day_mapping)\n",
    "df['month'] = df['month'].map(month_mapping)\n",
    "\n",
    "# Display the updated DataFrame\n",
    "print(df)\n"
   ]
  },
  {
   "cell_type": "code",
   "execution_count": 452,
   "id": "bbb7c91b",
   "metadata": {},
   "outputs": [
    {
     "data": {
      "text/html": [
       "<div>\n",
       "<style scoped>\n",
       "    .dataframe tbody tr th:only-of-type {\n",
       "        vertical-align: middle;\n",
       "    }\n",
       "\n",
       "    .dataframe tbody tr th {\n",
       "        vertical-align: top;\n",
       "    }\n",
       "\n",
       "    .dataframe thead th {\n",
       "        text-align: right;\n",
       "    }\n",
       "</style>\n",
       "<table border=\"1\" class=\"dataframe\">\n",
       "  <thead>\n",
       "    <tr style=\"text-align: right;\">\n",
       "      <th></th>\n",
       "      <th>X</th>\n",
       "      <th>Y</th>\n",
       "      <th>month</th>\n",
       "      <th>day</th>\n",
       "      <th>A</th>\n",
       "      <th>B</th>\n",
       "      <th>C</th>\n",
       "      <th>D</th>\n",
       "      <th>temp</th>\n",
       "      <th>RH</th>\n",
       "      <th>wind</th>\n",
       "      <th>rain</th>\n",
       "      <th>area</th>\n",
       "    </tr>\n",
       "  </thead>\n",
       "  <tbody>\n",
       "    <tr>\n",
       "      <th>0</th>\n",
       "      <td>7</td>\n",
       "      <td>5.0</td>\n",
       "      <td>3</td>\n",
       "      <td>5</td>\n",
       "      <td>86.2</td>\n",
       "      <td>26.2</td>\n",
       "      <td>94.3</td>\n",
       "      <td>5.1</td>\n",
       "      <td>8.2</td>\n",
       "      <td>51.0</td>\n",
       "      <td>6.7</td>\n",
       "      <td>0.0</td>\n",
       "      <td>0.00</td>\n",
       "    </tr>\n",
       "    <tr>\n",
       "      <th>1</th>\n",
       "      <td>7</td>\n",
       "      <td>4.0</td>\n",
       "      <td>10</td>\n",
       "      <td>2</td>\n",
       "      <td>90.6</td>\n",
       "      <td>35.4</td>\n",
       "      <td>669.1</td>\n",
       "      <td>6.7</td>\n",
       "      <td>18.0</td>\n",
       "      <td>33.0</td>\n",
       "      <td>0.9</td>\n",
       "      <td>0.0</td>\n",
       "      <td>0.00</td>\n",
       "    </tr>\n",
       "    <tr>\n",
       "      <th>2</th>\n",
       "      <td>7</td>\n",
       "      <td>4.0</td>\n",
       "      <td>10</td>\n",
       "      <td>6</td>\n",
       "      <td>90.6</td>\n",
       "      <td>43.7</td>\n",
       "      <td>686.9</td>\n",
       "      <td>6.7</td>\n",
       "      <td>14.6</td>\n",
       "      <td>33.0</td>\n",
       "      <td>1.3</td>\n",
       "      <td>0.0</td>\n",
       "      <td>0.00</td>\n",
       "    </tr>\n",
       "    <tr>\n",
       "      <th>3</th>\n",
       "      <td>8</td>\n",
       "      <td>6.0</td>\n",
       "      <td>3</td>\n",
       "      <td>5</td>\n",
       "      <td>91.7</td>\n",
       "      <td>33.3</td>\n",
       "      <td>77.5</td>\n",
       "      <td>9.0</td>\n",
       "      <td>8.3</td>\n",
       "      <td>97.0</td>\n",
       "      <td>4.0</td>\n",
       "      <td>0.2</td>\n",
       "      <td>0.00</td>\n",
       "    </tr>\n",
       "    <tr>\n",
       "      <th>4</th>\n",
       "      <td>8</td>\n",
       "      <td>6.0</td>\n",
       "      <td>3</td>\n",
       "      <td>7</td>\n",
       "      <td>89.3</td>\n",
       "      <td>51.3</td>\n",
       "      <td>102.2</td>\n",
       "      <td>9.6</td>\n",
       "      <td>11.4</td>\n",
       "      <td>99.0</td>\n",
       "      <td>1.8</td>\n",
       "      <td>0.0</td>\n",
       "      <td>0.00</td>\n",
       "    </tr>\n",
       "    <tr>\n",
       "      <th>...</th>\n",
       "      <td>...</td>\n",
       "      <td>...</td>\n",
       "      <td>...</td>\n",
       "      <td>...</td>\n",
       "      <td>...</td>\n",
       "      <td>...</td>\n",
       "      <td>...</td>\n",
       "      <td>...</td>\n",
       "      <td>...</td>\n",
       "      <td>...</td>\n",
       "      <td>...</td>\n",
       "      <td>...</td>\n",
       "      <td>...</td>\n",
       "    </tr>\n",
       "    <tr>\n",
       "      <th>512</th>\n",
       "      <td>4</td>\n",
       "      <td>3.0</td>\n",
       "      <td>8</td>\n",
       "      <td>7</td>\n",
       "      <td>81.6</td>\n",
       "      <td>56.7</td>\n",
       "      <td>665.6</td>\n",
       "      <td>1.9</td>\n",
       "      <td>27.8</td>\n",
       "      <td>32.0</td>\n",
       "      <td>2.7</td>\n",
       "      <td>0.0</td>\n",
       "      <td>6.44</td>\n",
       "    </tr>\n",
       "    <tr>\n",
       "      <th>513</th>\n",
       "      <td>2</td>\n",
       "      <td>4.0</td>\n",
       "      <td>8</td>\n",
       "      <td>7</td>\n",
       "      <td>81.6</td>\n",
       "      <td>56.7</td>\n",
       "      <td>665.6</td>\n",
       "      <td>1.9</td>\n",
       "      <td>21.9</td>\n",
       "      <td>71.0</td>\n",
       "      <td>5.8</td>\n",
       "      <td>0.0</td>\n",
       "      <td>54.29</td>\n",
       "    </tr>\n",
       "    <tr>\n",
       "      <th>514</th>\n",
       "      <td>7</td>\n",
       "      <td>4.0</td>\n",
       "      <td>8</td>\n",
       "      <td>7</td>\n",
       "      <td>81.6</td>\n",
       "      <td>56.7</td>\n",
       "      <td>665.6</td>\n",
       "      <td>1.9</td>\n",
       "      <td>21.2</td>\n",
       "      <td>70.0</td>\n",
       "      <td>6.7</td>\n",
       "      <td>0.0</td>\n",
       "      <td>11.16</td>\n",
       "    </tr>\n",
       "    <tr>\n",
       "      <th>515</th>\n",
       "      <td>1</td>\n",
       "      <td>4.0</td>\n",
       "      <td>8</td>\n",
       "      <td>6</td>\n",
       "      <td>94.4</td>\n",
       "      <td>146.0</td>\n",
       "      <td>614.7</td>\n",
       "      <td>11.3</td>\n",
       "      <td>25.6</td>\n",
       "      <td>42.0</td>\n",
       "      <td>4.0</td>\n",
       "      <td>0.0</td>\n",
       "      <td>0.00</td>\n",
       "    </tr>\n",
       "    <tr>\n",
       "      <th>516</th>\n",
       "      <td>6</td>\n",
       "      <td>3.0</td>\n",
       "      <td>11</td>\n",
       "      <td>2</td>\n",
       "      <td>79.5</td>\n",
       "      <td>3.0</td>\n",
       "      <td>106.7</td>\n",
       "      <td>1.1</td>\n",
       "      <td>11.8</td>\n",
       "      <td>31.0</td>\n",
       "      <td>4.5</td>\n",
       "      <td>0.0</td>\n",
       "      <td>0.00</td>\n",
       "    </tr>\n",
       "  </tbody>\n",
       "</table>\n",
       "<p>503 rows × 13 columns</p>\n",
       "</div>"
      ],
      "text/plain": [
       "     X    Y  month  day     A      B      C     D  temp    RH  wind  rain  \\\n",
       "0    7  5.0      3    5  86.2   26.2   94.3   5.1   8.2  51.0   6.7   0.0   \n",
       "1    7  4.0     10    2  90.6   35.4  669.1   6.7  18.0  33.0   0.9   0.0   \n",
       "2    7  4.0     10    6  90.6   43.7  686.9   6.7  14.6  33.0   1.3   0.0   \n",
       "3    8  6.0      3    5  91.7   33.3   77.5   9.0   8.3  97.0   4.0   0.2   \n",
       "4    8  6.0      3    7  89.3   51.3  102.2   9.6  11.4  99.0   1.8   0.0   \n",
       "..  ..  ...    ...  ...   ...    ...    ...   ...   ...   ...   ...   ...   \n",
       "512  4  3.0      8    7  81.6   56.7  665.6   1.9  27.8  32.0   2.7   0.0   \n",
       "513  2  4.0      8    7  81.6   56.7  665.6   1.9  21.9  71.0   5.8   0.0   \n",
       "514  7  4.0      8    7  81.6   56.7  665.6   1.9  21.2  70.0   6.7   0.0   \n",
       "515  1  4.0      8    6  94.4  146.0  614.7  11.3  25.6  42.0   4.0   0.0   \n",
       "516  6  3.0     11    2  79.5    3.0  106.7   1.1  11.8  31.0   4.5   0.0   \n",
       "\n",
       "      area  \n",
       "0     0.00  \n",
       "1     0.00  \n",
       "2     0.00  \n",
       "3     0.00  \n",
       "4     0.00  \n",
       "..     ...  \n",
       "512   6.44  \n",
       "513  54.29  \n",
       "514  11.16  \n",
       "515   0.00  \n",
       "516   0.00  \n",
       "\n",
       "[503 rows x 13 columns]"
      ]
     },
     "execution_count": 452,
     "metadata": {},
     "output_type": "execute_result"
    }
   ],
   "source": [
    "df"
   ]
  },
  {
   "cell_type": "markdown",
   "id": "bef3f5f2",
   "metadata": {},
   "source": [
    "# \"Reason for choosing mapping dictionary approach, because the labelencoder method assigns arbitrary numerical values and for not using onehot encoding is, it will increase the column size(12 months=12 columns)\""
   ]
  },
  {
   "cell_type": "code",
   "execution_count": 453,
   "id": "73e2c287",
   "metadata": {},
   "outputs": [
    {
     "name": "stdout",
     "output_type": "stream",
     "text": [
      "[0.00e+00 0.00e+00 0.00e+00 0.00e+00 0.00e+00 0.00e+00 0.00e+00 0.00e+00\n",
      " 0.00e+00 0.00e+00 0.00e+00 0.00e+00 0.00e+00 0.00e+00 0.00e+00 0.00e+00\n",
      " 0.00e+00 0.00e+00 0.00e+00 0.00e+00 0.00e+00 0.00e+00 0.00e+00 0.00e+00\n",
      " 0.00e+00 0.00e+00 0.00e+00 0.00e+00 0.00e+00 0.00e+00 0.00e+00 0.00e+00\n",
      " 0.00e+00 0.00e+00 0.00e+00 0.00e+00 0.00e+00 0.00e+00 0.00e+00 0.00e+00\n",
      " 0.00e+00 0.00e+00 0.00e+00 0.00e+00 0.00e+00 0.00e+00 0.00e+00 0.00e+00\n",
      " 0.00e+00 0.00e+00 0.00e+00 0.00e+00 0.00e+00 0.00e+00 0.00e+00 0.00e+00\n",
      " 0.00e+00 0.00e+00 0.00e+00 0.00e+00 0.00e+00 0.00e+00 0.00e+00 0.00e+00\n",
      " 0.00e+00 0.00e+00 0.00e+00 0.00e+00 0.00e+00 0.00e+00 0.00e+00 0.00e+00\n",
      " 0.00e+00 0.00e+00 0.00e+00 0.00e+00 0.00e+00 0.00e+00 0.00e+00 0.00e+00\n",
      " 0.00e+00 0.00e+00 0.00e+00 0.00e+00 0.00e+00 0.00e+00 0.00e+00 0.00e+00\n",
      " 0.00e+00 0.00e+00 0.00e+00 0.00e+00 0.00e+00 0.00e+00 0.00e+00 0.00e+00\n",
      " 0.00e+00 0.00e+00 0.00e+00 0.00e+00 0.00e+00 0.00e+00 0.00e+00 0.00e+00\n",
      " 0.00e+00 0.00e+00 0.00e+00 0.00e+00 0.00e+00 0.00e+00 0.00e+00 0.00e+00\n",
      " 0.00e+00 0.00e+00 0.00e+00 0.00e+00 0.00e+00 0.00e+00 0.00e+00 0.00e+00\n",
      " 0.00e+00 0.00e+00 0.00e+00 0.00e+00 0.00e+00 0.00e+00 0.00e+00 0.00e+00\n",
      " 0.00e+00 0.00e+00 3.60e-01 4.30e-01 4.70e-01 5.50e-01 6.10e-01 7.10e-01\n",
      " 7.70e-01 9.00e-01 9.50e-01 9.60e-01 1.07e+00 1.12e+00 1.19e+00 1.36e+00\n",
      " 1.43e+00 1.46e+00 1.46e+00 1.56e+00 1.61e+00 1.63e+00 1.64e+00 1.69e+00\n",
      " 1.75e+00 1.90e+00 1.94e+00 1.95e+00 2.14e+00 2.29e+00 2.51e+00 2.53e+00\n",
      " 2.55e+00 2.57e+00 2.69e+00 2.74e+00 3.07e+00 3.50e+00 4.53e+00 4.61e+00\n",
      " 4.69e+00 4.88e+00 5.23e+00 5.33e+00 5.44e+00 6.38e+00 6.83e+00 6.96e+00\n",
      " 7.04e+00 7.19e+00 7.30e+00 7.40e+00 8.24e+00 8.31e+00 8.68e+00 8.71e+00\n",
      " 9.41e+00 1.00e+01 1.00e+01 1.09e+01 1.11e+01 1.12e+01 1.13e+01 1.15e+01\n",
      " 1.21e+01 1.31e+01 1.37e+01 1.40e+01 1.46e+01 1.54e+01 1.72e+01 2.34e+01\n",
      " 2.42e+01 2.60e+01 2.61e+01 2.74e+01 2.87e+01 2.95e+01 3.03e+01 3.17e+01\n",
      " 3.19e+01 3.21e+01 3.59e+01 3.69e+01 3.70e+01 3.77e+01 4.85e+01 4.94e+01\n",
      " 5.83e+01 6.41e+01 7.13e+01 8.85e+01 9.52e+01 1.03e+02 1.06e+02 1.55e+02\n",
      " 1.96e+02 2.01e+02 2.13e+02 1.09e+03 0.00e+00 0.00e+00 0.00e+00 1.01e+01\n",
      " 0.00e+00 2.87e+00 7.60e-01 9.00e-02 7.50e-01 0.00e+00 2.47e+00 6.80e-01\n",
      " 2.40e-01 2.10e-01 1.52e+00 1.03e+01 0.00e+00 8.02e+00 6.80e-01 0.00e+00\n",
      " 1.38e+00 8.85e+00 3.30e+00 4.25e+00 1.56e+00 6.54e+00 7.90e-01 1.70e-01\n",
      " 0.00e+00 0.00e+00 4.40e+00 5.20e-01 9.27e+00 3.09e+00 8.98e+00 1.12e+01\n",
      " 5.38e+00 1.79e+01 1.07e+01 2.20e+01 9.77e+00 9.27e+00 2.48e+01 0.00e+00\n",
      " 1.10e+00 2.42e+01 0.00e+00 0.00e+00 0.00e+00 0.00e+00 0.00e+00 0.00e+00\n",
      " 8.00e+00 2.64e+00 8.65e+01 6.57e+00 0.00e+00 9.00e-01 0.00e+00 0.00e+00\n",
      " 0.00e+00 0.00e+00 3.52e+00 0.00e+00 0.00e+00 0.00e+00 4.10e-01 5.18e+00\n",
      " 0.00e+00 0.00e+00 0.00e+00 1.43e+01 0.00e+00 0.00e+00 1.58e+00 0.00e+00\n",
      " 0.00e+00 3.78e+00 0.00e+00 4.41e+00 3.44e+01 7.21e+00 1.01e+00 2.18e+00\n",
      " 4.42e+00 0.00e+00 0.00e+00 0.00e+00 0.00e+00 3.33e+00 6.58e+00 1.56e+01\n",
      " 1.12e+01 2.13e+00 0.00e+00 0.00e+00 0.00e+00 5.60e+01 7.48e+00 1.47e+00\n",
      " 3.93e+00 0.00e+00 0.00e+00 2.18e+00 6.10e+00 5.83e+00 2.82e+01 0.00e+00\n",
      " 0.00e+00 1.64e+00 3.71e+00 7.31e+00 2.03e+00 1.72e+00 5.97e+00 1.31e+01\n",
      " 1.26e+00 0.00e+00 0.00e+00 8.12e+00 1.09e+00 3.94e+00 5.20e-01 2.93e+00\n",
      " 5.65e+00 2.00e+01 1.75e+00 1.26e+01 0.00e+00 1.11e+01 0.00e+00 0.00e+00\n",
      " 0.00e+00 1.83e+01 3.94e+01 0.00e+00 1.75e+02 0.00e+00 0.00e+00 7.73e+00\n",
      " 1.63e+01 5.86e+00 4.29e+01 1.22e+01 1.60e+01 2.46e+01 0.00e+00 2.87e+01\n",
      " 0.00e+00 9.96e+00 3.02e+01 7.08e+01 0.00e+00 0.00e+00 5.18e+01 3.64e+00\n",
      " 3.63e+00 0.00e+00 0.00e+00 8.16e+00 4.95e+00 0.00e+00 0.00e+00 6.04e+00\n",
      " 0.00e+00 3.95e+00 0.00e+00 7.80e+00 0.00e+00 0.00e+00 4.62e+00 1.63e+00\n",
      " 0.00e+00 0.00e+00 7.46e+02 7.02e+00 0.00e+00 2.44e+00 3.05e+00 1.86e+02\n",
      " 0.00e+00 6.30e+00 7.20e-01 4.96e+00 0.00e+00 0.00e+00 2.35e+00 0.00e+00\n",
      " 3.20e+00 0.00e+00 6.36e+00 0.00e+00 1.53e+01 0.00e+00 0.00e+00 5.40e-01\n",
      " 0.00e+00 6.43e+00 3.30e-01 0.00e+00 1.23e+00 3.35e+00 0.00e+00 9.96e+00\n",
      " 0.00e+00 0.00e+00 0.00e+00 0.00e+00 0.00e+00 6.43e+00 9.71e+00 0.00e+00\n",
      " 0.00e+00 0.00e+00 0.00e+00 0.00e+00 8.28e+01 3.32e+00 1.94e+00 0.00e+00\n",
      " 0.00e+00 3.71e+00 5.39e+00 2.14e+00 6.84e+00 3.18e+00 5.55e+00 6.61e+00\n",
      " 6.11e+01 0.00e+00 3.85e+01 1.94e+00 7.03e+01 1.01e+01 3.19e+00 1.76e+00\n",
      " 7.36e+00 2.21e+00 2.79e+02 2.75e+00 0.00e+00 1.29e+00 0.00e+00 2.64e+01\n",
      " 2.07e+00 2.00e+00 1.64e+01 4.67e+01 0.00e+00 0.00e+00 0.00e+00 4.33e+01\n",
      " 8.59e+00 0.00e+00 2.77e+00 1.47e+01 4.05e+01 1.08e+01 0.00e+00 0.00e+00\n",
      " 0.00e+00 1.95e+00 4.96e+01 5.80e+00 0.00e+00 0.00e+00 0.00e+00 2.17e+00\n",
      " 4.30e-01 0.00e+00 6.44e+00 5.43e+01 1.12e+01 0.00e+00 0.00e+00]\n",
      "[[ 7.   5.   3.  ... 51.   6.7  0. ]\n",
      " [ 7.   4.  10.  ... 33.   0.9  0. ]\n",
      " [ 7.   4.  10.  ... 33.   1.3  0. ]\n",
      " ...\n",
      " [ 7.   4.   8.  ... 70.   6.7  0. ]\n",
      " [ 1.   4.   8.  ... 42.   4.   0. ]\n",
      " [ 6.   3.  11.  ... 31.   4.5  0. ]]\n",
      "(503,)\n"
     ]
    }
   ],
   "source": [
    "y = df.iloc[:, -1].values # Target variable \n",
    "X = df.iloc[:, :-1].values # Features' variable \n",
    "print(y)\n",
    "print(X)\n",
    "print(np.shape(y))"
   ]
  },
  {
   "cell_type": "code",
   "execution_count": 454,
   "id": "65c0e7ec",
   "metadata": {},
   "outputs": [
    {
     "data": {
      "text/plain": [
       "array([[ 7. ,  5. ,  3. , ..., 51. ,  6.7,  0. ],\n",
       "       [ 7. ,  4. , 10. , ..., 33. ,  0.9,  0. ],\n",
       "       [ 7. ,  4. , 10. , ..., 33. ,  1.3,  0. ],\n",
       "       ...,\n",
       "       [ 7. ,  4. ,  8. , ..., 70. ,  6.7,  0. ],\n",
       "       [ 1. ,  4. ,  8. , ..., 42. ,  4. ,  0. ],\n",
       "       [ 6. ,  3. , 11. , ..., 31. ,  4.5,  0. ]])"
      ]
     },
     "execution_count": 454,
     "metadata": {},
     "output_type": "execute_result"
    }
   ],
   "source": [
    "X"
   ]
  },
  {
   "cell_type": "markdown",
   "id": "ac04623d",
   "metadata": {},
   "source": [
    "# Exploratory Data Analysis\n",
    "\n",
    "Before moving on to data splitting, lets study how data looks like."
   ]
  },
  {
   "cell_type": "code",
   "execution_count": 456,
   "id": "edbf68c3",
   "metadata": {},
   "outputs": [],
   "source": [
    "import matplotlib.pyplot as plt\n",
    "import seaborn as sns"
   ]
  },
  {
   "cell_type": "code",
   "execution_count": 457,
   "id": "60b4ee37",
   "metadata": {},
   "outputs": [
    {
     "data": {
      "text/html": [
       "<div>\n",
       "<style scoped>\n",
       "    .dataframe tbody tr th:only-of-type {\n",
       "        vertical-align: middle;\n",
       "    }\n",
       "\n",
       "    .dataframe tbody tr th {\n",
       "        vertical-align: top;\n",
       "    }\n",
       "\n",
       "    .dataframe thead th {\n",
       "        text-align: right;\n",
       "    }\n",
       "</style>\n",
       "<table border=\"1\" class=\"dataframe\">\n",
       "  <thead>\n",
       "    <tr style=\"text-align: right;\">\n",
       "      <th></th>\n",
       "      <th>X</th>\n",
       "      <th>Y</th>\n",
       "      <th>month</th>\n",
       "      <th>day</th>\n",
       "      <th>A</th>\n",
       "      <th>B</th>\n",
       "      <th>C</th>\n",
       "      <th>D</th>\n",
       "      <th>temp</th>\n",
       "      <th>RH</th>\n",
       "      <th>wind</th>\n",
       "      <th>rain</th>\n",
       "      <th>area</th>\n",
       "    </tr>\n",
       "  </thead>\n",
       "  <tbody>\n",
       "    <tr>\n",
       "      <th>X</th>\n",
       "      <td>1.000000</td>\n",
       "      <td>0.543400</td>\n",
       "      <td>-0.072989</td>\n",
       "      <td>-0.030025</td>\n",
       "      <td>-0.023731</td>\n",
       "      <td>-0.048786</td>\n",
       "      <td>-0.093941</td>\n",
       "      <td>0.001478</td>\n",
       "      <td>-0.051750</td>\n",
       "      <td>0.080504</td>\n",
       "      <td>0.021141</td>\n",
       "      <td>0.065884</td>\n",
       "      <td>0.063906</td>\n",
       "    </tr>\n",
       "    <tr>\n",
       "      <th>Y</th>\n",
       "      <td>0.543400</td>\n",
       "      <td>1.000000</td>\n",
       "      <td>-0.061750</td>\n",
       "      <td>-0.011110</td>\n",
       "      <td>-0.036776</td>\n",
       "      <td>0.013232</td>\n",
       "      <td>-0.096819</td>\n",
       "      <td>-0.022578</td>\n",
       "      <td>-0.021459</td>\n",
       "      <td>0.065377</td>\n",
       "      <td>-0.018598</td>\n",
       "      <td>0.034173</td>\n",
       "      <td>0.046968</td>\n",
       "    </tr>\n",
       "    <tr>\n",
       "      <th>month</th>\n",
       "      <td>-0.072989</td>\n",
       "      <td>-0.061750</td>\n",
       "      <td>1.000000</td>\n",
       "      <td>-0.039733</td>\n",
       "      <td>0.281366</td>\n",
       "      <td>0.461347</td>\n",
       "      <td>0.865291</td>\n",
       "      <td>0.175347</td>\n",
       "      <td>0.369074</td>\n",
       "      <td>-0.104996</td>\n",
       "      <td>-0.086116</td>\n",
       "      <td>0.013431</td>\n",
       "      <td>0.058148</td>\n",
       "    </tr>\n",
       "    <tr>\n",
       "      <th>day</th>\n",
       "      <td>-0.030025</td>\n",
       "      <td>-0.011110</td>\n",
       "      <td>-0.039733</td>\n",
       "      <td>1.000000</td>\n",
       "      <td>-0.035824</td>\n",
       "      <td>0.070719</td>\n",
       "      <td>0.013167</td>\n",
       "      <td>0.034182</td>\n",
       "      <td>0.056467</td>\n",
       "      <td>0.091770</td>\n",
       "      <td>0.025978</td>\n",
       "      <td>-0.048664</td>\n",
       "      <td>0.023359</td>\n",
       "    </tr>\n",
       "    <tr>\n",
       "      <th>A</th>\n",
       "      <td>-0.023731</td>\n",
       "      <td>-0.036776</td>\n",
       "      <td>0.281366</td>\n",
       "      <td>-0.035824</td>\n",
       "      <td>1.000000</td>\n",
       "      <td>0.380310</td>\n",
       "      <td>0.325678</td>\n",
       "      <td>0.529753</td>\n",
       "      <td>0.432657</td>\n",
       "      <td>-0.305869</td>\n",
       "      <td>-0.038075</td>\n",
       "      <td>0.057595</td>\n",
       "      <td>0.040150</td>\n",
       "    </tr>\n",
       "    <tr>\n",
       "      <th>B</th>\n",
       "      <td>-0.048786</td>\n",
       "      <td>0.013232</td>\n",
       "      <td>0.461347</td>\n",
       "      <td>0.070719</td>\n",
       "      <td>0.380310</td>\n",
       "      <td>1.000000</td>\n",
       "      <td>0.682462</td>\n",
       "      <td>0.305633</td>\n",
       "      <td>0.468422</td>\n",
       "      <td>0.071953</td>\n",
       "      <td>-0.108553</td>\n",
       "      <td>0.074817</td>\n",
       "      <td>0.073234</td>\n",
       "    </tr>\n",
       "    <tr>\n",
       "      <th>C</th>\n",
       "      <td>-0.093941</td>\n",
       "      <td>-0.096819</td>\n",
       "      <td>0.865291</td>\n",
       "      <td>0.013167</td>\n",
       "      <td>0.325678</td>\n",
       "      <td>0.682462</td>\n",
       "      <td>1.000000</td>\n",
       "      <td>0.219927</td>\n",
       "      <td>0.499795</td>\n",
       "      <td>-0.046267</td>\n",
       "      <td>-0.204679</td>\n",
       "      <td>0.036259</td>\n",
       "      <td>0.051064</td>\n",
       "    </tr>\n",
       "    <tr>\n",
       "      <th>D</th>\n",
       "      <td>0.001478</td>\n",
       "      <td>-0.022578</td>\n",
       "      <td>0.175347</td>\n",
       "      <td>0.034182</td>\n",
       "      <td>0.529753</td>\n",
       "      <td>0.305633</td>\n",
       "      <td>0.219927</td>\n",
       "      <td>1.000000</td>\n",
       "      <td>0.394751</td>\n",
       "      <td>-0.127630</td>\n",
       "      <td>0.100742</td>\n",
       "      <td>0.069249</td>\n",
       "      <td>0.009474</td>\n",
       "    </tr>\n",
       "    <tr>\n",
       "      <th>temp</th>\n",
       "      <td>-0.051750</td>\n",
       "      <td>-0.021459</td>\n",
       "      <td>0.369074</td>\n",
       "      <td>0.056467</td>\n",
       "      <td>0.432657</td>\n",
       "      <td>0.468422</td>\n",
       "      <td>0.499795</td>\n",
       "      <td>0.394751</td>\n",
       "      <td>1.000000</td>\n",
       "      <td>-0.531285</td>\n",
       "      <td>-0.232777</td>\n",
       "      <td>0.070272</td>\n",
       "      <td>0.099587</td>\n",
       "    </tr>\n",
       "    <tr>\n",
       "      <th>RH</th>\n",
       "      <td>0.080504</td>\n",
       "      <td>0.065377</td>\n",
       "      <td>-0.104996</td>\n",
       "      <td>0.091770</td>\n",
       "      <td>-0.305869</td>\n",
       "      <td>0.071953</td>\n",
       "      <td>-0.046267</td>\n",
       "      <td>-0.127630</td>\n",
       "      <td>-0.531285</td>\n",
       "      <td>1.000000</td>\n",
       "      <td>0.077322</td>\n",
       "      <td>0.099712</td>\n",
       "      <td>-0.077419</td>\n",
       "    </tr>\n",
       "    <tr>\n",
       "      <th>wind</th>\n",
       "      <td>0.021141</td>\n",
       "      <td>-0.018598</td>\n",
       "      <td>-0.086116</td>\n",
       "      <td>0.025978</td>\n",
       "      <td>-0.038075</td>\n",
       "      <td>-0.108553</td>\n",
       "      <td>-0.204679</td>\n",
       "      <td>0.100742</td>\n",
       "      <td>-0.232777</td>\n",
       "      <td>0.077322</td>\n",
       "      <td>1.000000</td>\n",
       "      <td>0.061758</td>\n",
       "      <td>0.011840</td>\n",
       "    </tr>\n",
       "    <tr>\n",
       "      <th>rain</th>\n",
       "      <td>0.065884</td>\n",
       "      <td>0.034173</td>\n",
       "      <td>0.013431</td>\n",
       "      <td>-0.048664</td>\n",
       "      <td>0.057595</td>\n",
       "      <td>0.074817</td>\n",
       "      <td>0.036259</td>\n",
       "      <td>0.069249</td>\n",
       "      <td>0.070272</td>\n",
       "      <td>0.099712</td>\n",
       "      <td>0.061758</td>\n",
       "      <td>1.000000</td>\n",
       "      <td>-0.007668</td>\n",
       "    </tr>\n",
       "    <tr>\n",
       "      <th>area</th>\n",
       "      <td>0.063906</td>\n",
       "      <td>0.046968</td>\n",
       "      <td>0.058148</td>\n",
       "      <td>0.023359</td>\n",
       "      <td>0.040150</td>\n",
       "      <td>0.073234</td>\n",
       "      <td>0.051064</td>\n",
       "      <td>0.009474</td>\n",
       "      <td>0.099587</td>\n",
       "      <td>-0.077419</td>\n",
       "      <td>0.011840</td>\n",
       "      <td>-0.007668</td>\n",
       "      <td>1.000000</td>\n",
       "    </tr>\n",
       "  </tbody>\n",
       "</table>\n",
       "</div>"
      ],
      "text/plain": [
       "              X         Y     month       day         A         B         C  \\\n",
       "X      1.000000  0.543400 -0.072989 -0.030025 -0.023731 -0.048786 -0.093941   \n",
       "Y      0.543400  1.000000 -0.061750 -0.011110 -0.036776  0.013232 -0.096819   \n",
       "month -0.072989 -0.061750  1.000000 -0.039733  0.281366  0.461347  0.865291   \n",
       "day   -0.030025 -0.011110 -0.039733  1.000000 -0.035824  0.070719  0.013167   \n",
       "A     -0.023731 -0.036776  0.281366 -0.035824  1.000000  0.380310  0.325678   \n",
       "B     -0.048786  0.013232  0.461347  0.070719  0.380310  1.000000  0.682462   \n",
       "C     -0.093941 -0.096819  0.865291  0.013167  0.325678  0.682462  1.000000   \n",
       "D      0.001478 -0.022578  0.175347  0.034182  0.529753  0.305633  0.219927   \n",
       "temp  -0.051750 -0.021459  0.369074  0.056467  0.432657  0.468422  0.499795   \n",
       "RH     0.080504  0.065377 -0.104996  0.091770 -0.305869  0.071953 -0.046267   \n",
       "wind   0.021141 -0.018598 -0.086116  0.025978 -0.038075 -0.108553 -0.204679   \n",
       "rain   0.065884  0.034173  0.013431 -0.048664  0.057595  0.074817  0.036259   \n",
       "area   0.063906  0.046968  0.058148  0.023359  0.040150  0.073234  0.051064   \n",
       "\n",
       "              D      temp        RH      wind      rain      area  \n",
       "X      0.001478 -0.051750  0.080504  0.021141  0.065884  0.063906  \n",
       "Y     -0.022578 -0.021459  0.065377 -0.018598  0.034173  0.046968  \n",
       "month  0.175347  0.369074 -0.104996 -0.086116  0.013431  0.058148  \n",
       "day    0.034182  0.056467  0.091770  0.025978 -0.048664  0.023359  \n",
       "A      0.529753  0.432657 -0.305869 -0.038075  0.057595  0.040150  \n",
       "B      0.305633  0.468422  0.071953 -0.108553  0.074817  0.073234  \n",
       "C      0.219927  0.499795 -0.046267 -0.204679  0.036259  0.051064  \n",
       "D      1.000000  0.394751 -0.127630  0.100742  0.069249  0.009474  \n",
       "temp   0.394751  1.000000 -0.531285 -0.232777  0.070272  0.099587  \n",
       "RH    -0.127630 -0.531285  1.000000  0.077322  0.099712 -0.077419  \n",
       "wind   0.100742 -0.232777  0.077322  1.000000  0.061758  0.011840  \n",
       "rain   0.069249  0.070272  0.099712  0.061758  1.000000 -0.007668  \n",
       "area   0.009474  0.099587 -0.077419  0.011840 -0.007668  1.000000  "
      ]
     },
     "execution_count": 457,
     "metadata": {},
     "output_type": "execute_result"
    }
   ],
   "source": [
    "df.corr()"
   ]
  },
  {
   "cell_type": "markdown",
   "id": "4ee50c59",
   "metadata": {},
   "source": [
    "Significant correlation are, \n",
    "month-C  = 0.86,\n",
    "B - C    = 0.68,\n",
    "B - Temp = 0.46,\n",
    "C- Temp  = 0.49.\n",
    "And four index having positive correlation with temp data."
   ]
  },
  {
   "cell_type": "code",
   "execution_count": 458,
   "id": "9c9d0a81",
   "metadata": {},
   "outputs": [
    {
     "data": {
      "image/png": "[encoded data removed]",
      "text/plain": [
       "<Figure size 1500x1000 with 16 Axes>"
      ]
     },
     "metadata": {},
     "output_type": "display_data"
    }
   ],
   "source": [
    "# Plot histograms for each numeric feature\n",
    "df.hist(bins=20, figsize=(15, 10))\n",
    "plt.show()"
   ]
  },
  {
   "cell_type": "code",
   "execution_count": 459,
   "id": "2c55c254",
   "metadata": {},
   "outputs": [
    {
     "data": {
      "image/png": "[encoded data removed]",
      "text/plain": [
       "<Figure size 1500x500 with 3 Axes>"
      ]
     },
     "metadata": {},
     "output_type": "display_data"
    }
   ],
   "source": [
    "# Columns which had outliers before\n",
    "fig, axes = plt.subplots(nrows=1, ncols=3, figsize=(15, 5))\n",
    "\n",
    "# Plot histograms for 'X', 'A', and 'RH'\n",
    "sns.histplot(data['X'].dropna(), ax=axes[0], kde=True)\n",
    "sns.histplot(data['A'].dropna(), ax=axes[1], kde=True)\n",
    "sns.histplot(data['RH'].dropna(), ax=axes[2], kde=True)\n",
    "\n",
    "\n",
    "axes[0].set_title('Distribution of X')\n",
    "axes[1].set_title('Distribution of A')\n",
    "axes[2].set_title('Distribution of RH')\n",
    "\n",
    "\n",
    "plt.tight_layout()\n",
    "plt.show()"
   ]
  },
  {
   "cell_type": "code",
   "execution_count": 460,
   "id": "eb386cc8",
   "metadata": {},
   "outputs": [
    {
     "data": {
      "image/png": "[encoded data removed]",
      "text/plain": [
       "<Figure size 640x480 with 2 Axes>"
      ]
     },
     "metadata": {},
     "output_type": "display_data"
    },
    {
     "data": {
      "text/plain": [
       "<Figure size 1200x800 with 0 Axes>"
      ]
     },
     "metadata": {},
     "output_type": "display_data"
    }
   ],
   "source": [
    "sns.heatmap(df.corr(),annot = True)\n",
    "plt.figure(figsize=(12, 8))\n",
    "plt.show()"
   ]
  },
  {
   "cell_type": "code",
   "execution_count": 461,
   "id": "9c530a0f",
   "metadata": {},
   "outputs": [
    {
     "data": {
      "image/png": "[encoded data removed]",
      "text/plain": [
       "<Figure size 1200x800 with 2 Axes>"
      ]
     },
     "metadata": {},
     "output_type": "display_data"
    }
   ],
   "source": [
    "correlation_matrix = df.corr()\n",
    "\n",
    "plt.figure(figsize=(12, 8))\n",
    "sns.heatmap(correlation_matrix, annot=True, cmap=\"coolwarm\", fmt=\".2f\")\n",
    "plt.show()"
   ]
  },
  {
   "cell_type": "code",
   "execution_count": 462,
   "id": "39e86b51",
   "metadata": {},
   "outputs": [
    {
     "data": {
      "text/plain": [
       "<Axes: >"
      ]
     },
     "execution_count": 462,
     "metadata": {},
     "output_type": "execute_result"
    },
    {
     "data": {
      "image/png": "[encoded data removed]",
      "text/plain": [
       "<Figure size 640x480 with 1 Axes>"
      ]
     },
     "metadata": {},
     "output_type": "display_data"
    }
   ],
   "source": [
    "df.boxplot()"
   ]
  },
  {
   "cell_type": "code",
   "execution_count": 463,
   "id": "1fe54ea7",
   "metadata": {},
   "outputs": [
    {
     "data": {
      "text/plain": [
       "X          int64\n",
       "Y        float64\n",
       "month      int64\n",
       "day        int64\n",
       "A        float64\n",
       "B        float64\n",
       "C        float64\n",
       "D        float64\n",
       "temp     float64\n",
       "RH       float64\n",
       "wind     float64\n",
       "rain     float64\n",
       "area     float64\n",
       "dtype: object"
      ]
     },
     "execution_count": 463,
     "metadata": {},
     "output_type": "execute_result"
    }
   ],
   "source": [
    "df.dtypes"
   ]
  },
  {
   "cell_type": "code",
   "execution_count": 464,
   "id": "5e20ec0c",
   "metadata": {},
   "outputs": [
    {
     "data": {
      "text/plain": [
       "(503, 13)"
      ]
     },
     "execution_count": 464,
     "metadata": {},
     "output_type": "execute_result"
    }
   ],
   "source": [
    "df.shape"
   ]
  },
  {
   "cell_type": "markdown",
   "id": "3f312809",
   "metadata": {},
   "source": [
    "# Regression Models:"
   ]
  },
  {
   "cell_type": "markdown",
   "id": "6e48eec3",
   "metadata": {},
   "source": [
    "### 1. Linear Regression "
   ]
  },
  {
   "cell_type": "code",
   "execution_count": 535,
   "id": "fb20083b",
   "metadata": {},
   "outputs": [],
   "source": [
    "#Data Splitting\n",
    "from sklearn.model_selection import train_test_split\n",
    "X_train, X_test, y_train, y_test = train_test_split(X, y, test_size = 0.3, random_state = 0)"
   ]
  },
  {
   "cell_type": "code",
   "execution_count": 536,
   "id": "a05ec5ba",
   "metadata": {},
   "outputs": [
    {
     "data": {
      "text/html": [
       "<style>#sk-container-id-56 {color: black;}#sk-container-id-56 pre{padding: 0;}#sk-container-id-56 div.sk-toggleable {background-color: white;}#sk-container-id-56 label.sk-toggleable__label {cursor: pointer;display: block;width: 100%;margin-bottom: 0;padding: 0.3em;box-sizing: border-box;text-align: center;}#sk-container-id-56 label.sk-toggleable__label-arrow:before {content: \"▸\";float: left;margin-right: 0.25em;color: #696969;}#sk-container-id-56 label.sk-toggleable__label-arrow:hover:before {color: black;}#sk-container-id-56 div.sk-estimator:hover label.sk-toggleable__label-arrow:before {color: black;}#sk-container-id-56 div.sk-toggleable__content {max-height: 0;max-width: 0;overflow: hidden;text-align: left;background-color: #f0f8ff;}#sk-container-id-56 div.sk-toggleable__content pre {margin: 0.2em;color: black;border-radius: 0.25em;background-color: #f0f8ff;}#sk-container-id-56 input.sk-toggleable__control:checked~div.sk-toggleable__content {max-height: 200px;max-width: 100%;overflow: auto;}#sk-container-id-56 input.sk-toggleable__control:checked~label.sk-toggleable__label-arrow:before {content: \"▾\";}#sk-container-id-56 div.sk-estimator input.sk-toggleable__control:checked~label.sk-toggleable__label {background-color: #d4ebff;}#sk-container-id-56 div.sk-label input.sk-toggleable__control:checked~label.sk-toggleable__label {background-color: #d4ebff;}#sk-container-id-56 input.sk-hidden--visually {border: 0;clip: rect(1px 1px 1px 1px);clip: rect(1px, 1px, 1px, 1px);height: 1px;margin: -1px;overflow: hidden;padding: 0;position: absolute;width: 1px;}#sk-container-id-56 div.sk-estimator {font-family: monospace;background-color: #f0f8ff;border: 1px dotted black;border-radius: 0.25em;box-sizing: border-box;margin-bottom: 0.5em;}#sk-container-id-56 div.sk-estimator:hover {background-color: #d4ebff;}#sk-container-id-56 div.sk-parallel-item::after {content: \"\";width: 100%;border-bottom: 1px solid gray;flex-grow: 1;}#sk-container-id-56 div.sk-label:hover label.sk-toggleable__label {background-color: #d4ebff;}#sk-container-id-56 div.sk-serial::before {content: \"\";position: absolute;border-left: 1px solid gray;box-sizing: border-box;top: 0;bottom: 0;left: 50%;z-index: 0;}#sk-container-id-56 div.sk-serial {display: flex;flex-direction: column;align-items: center;background-color: white;padding-right: 0.2em;padding-left: 0.2em;position: relative;}#sk-container-id-56 div.sk-item {position: relative;z-index: 1;}#sk-container-id-56 div.sk-parallel {display: flex;align-items: stretch;justify-content: center;background-color: white;position: relative;}#sk-container-id-56 div.sk-item::before, #sk-container-id-56 div.sk-parallel-item::before {content: \"\";position: absolute;border-left: 1px solid gray;box-sizing: border-box;top: 0;bottom: 0;left: 50%;z-index: -1;}#sk-container-id-56 div.sk-parallel-item {display: flex;flex-direction: column;z-index: 1;position: relative;background-color: white;}#sk-container-id-56 div.sk-parallel-item:first-child::after {align-self: flex-end;width: 50%;}#sk-container-id-56 div.sk-parallel-item:last-child::after {align-self: flex-start;width: 50%;}#sk-container-id-56 div.sk-parallel-item:only-child::after {width: 0;}#sk-container-id-56 div.sk-dashed-wrapped {border: 1px dashed gray;margin: 0 0.4em 0.5em 0.4em;box-sizing: border-box;padding-bottom: 0.4em;background-color: white;}#sk-container-id-56 div.sk-label label {font-family: monospace;font-weight: bold;display: inline-block;line-height: 1.2em;}#sk-container-id-56 div.sk-label-container {text-align: center;}#sk-container-id-56 div.sk-container {/* jupyter's `normalize.less` sets `[hidden] { display: none; }` but bootstrap.min.css set `[hidden] { display: none !important; }` so we also need the `!important` here to be able to override the default hidden behavior on the sphinx rendered scikit-learn.org. See: https://github.com/scikit-learn/scikit-learn/issues/21755 */display: inline-block !important;position: relative;}#sk-container-id-56 div.sk-text-repr-fallback {display: none;}</style><div id=\"sk-container-id-56\" class=\"sk-top-container\"><div class=\"sk-text-repr-fallback\"><pre>LinearRegression()</pre><b>In a Jupyter environment, please rerun this cell to show the HTML representation or trust the notebook. <br />On GitHub, the HTML representation is unable to render, please try loading this page with nbviewer.org.</b></div><div class=\"sk-container\" hidden><div class=\"sk-item\"><div class=\"sk-estimator sk-toggleable\"><input class=\"sk-toggleable__control sk-hidden--visually\" id=\"sk-estimator-id-56\" type=\"checkbox\" checked><label for=\"sk-estimator-id-56\" class=\"sk-toggleable__label sk-toggleable__label-arrow\">LinearRegression</label><div class=\"sk-toggleable__content\"><pre>LinearRegression()</pre></div></div></div></div></div>"
      ],
      "text/plain": [
       "LinearRegression()"
      ]
     },
     "execution_count": 536,
     "metadata": {},
     "output_type": "execute_result"
    }
   ],
   "source": [
    "from sklearn.linear_model import LinearRegression\n",
    "regressor = LinearRegression()\n",
    "regressor.fit(X_train, y_train)"
   ]
  },
  {
   "cell_type": "code",
   "execution_count": 537,
   "id": "7ff8277b",
   "metadata": {},
   "outputs": [
    {
     "name": "stdout",
     "output_type": "stream",
     "text": [
      "[[ 1.31e+01  0.00e+00]\n",
      " [ 1.94e+01  0.00e+00]\n",
      " [ 1.06e+00  4.67e+01]\n",
      " [ 1.60e+01  2.03e+00]\n",
      " [ 1.95e+01  7.80e+00]\n",
      " [ 9.06e+00  0.00e+00]\n",
      " [ 1.93e+01  6.58e+00]\n",
      " [ 2.13e+01  3.20e+00]\n",
      " [ 6.98e+00  2.53e+00]\n",
      " [ 1.67e+01  1.90e+00]\n",
      " [ 6.82e-01  0.00e+00]\n",
      " [ 1.01e+01  6.54e+00]\n",
      " [ 7.89e+00  7.90e-01]\n",
      " [ 2.12e+01  8.85e+01]\n",
      " [ 2.07e+01  5.33e+00]\n",
      " [ 2.29e+01  0.00e+00]\n",
      " [ 2.04e+01  2.64e+01]\n",
      " [ 1.93e+01  1.37e+01]\n",
      " [ 1.46e+01  1.94e+00]\n",
      " [ 1.31e+01  0.00e+00]\n",
      " [ 7.04e+00  3.19e+01]\n",
      " [ 2.23e+01  0.00e+00]\n",
      " [ 1.86e+01  1.01e+01]\n",
      " [ 7.45e+00  0.00e+00]\n",
      " [ 1.81e+00  0.00e+00]\n",
      " [ 2.09e+01  7.46e+02]\n",
      " [ 1.42e+01  0.00e+00]\n",
      " [ 1.94e+01  2.87e+01]\n",
      " [ 4.20e-01  0.00e+00]\n",
      " [ 6.31e+00  7.50e-01]\n",
      " [ 1.42e+01  6.04e+00]\n",
      " [ 1.94e+01  0.00e+00]\n",
      " [-2.69e-02  0.00e+00]\n",
      " [ 1.14e+01  5.43e+01]\n",
      " [ 1.20e+01  2.95e+01]\n",
      " [ 9.99e+00  3.94e+01]\n",
      " [ 1.55e+01  0.00e+00]\n",
      " [-3.55e+00  6.84e+00]\n",
      " [ 2.23e+01  9.77e+00]\n",
      " [ 1.08e+01  1.15e+01]\n",
      " [ 2.08e+01  1.56e+01]\n",
      " [ 1.74e+01  0.00e+00]\n",
      " [ 2.00e+01  3.05e+00]\n",
      " [ 1.79e+01  1.96e+02]\n",
      " [ 1.33e+01  0.00e+00]\n",
      " [ 1.63e+01  0.00e+00]\n",
      " [ 1.33e+01  6.11e+01]\n",
      " [ 8.57e+00  2.93e+00]\n",
      " [ 1.56e+01  0.00e+00]\n",
      " [ 1.46e+01  0.00e+00]\n",
      " [-3.42e+01  0.00e+00]\n",
      " [ 6.49e+00  5.23e+00]\n",
      " [ 2.07e+01  9.52e+01]\n",
      " [ 1.71e+01  1.43e+00]\n",
      " [ 1.03e+01  4.70e-01]\n",
      " [ 2.23e+01  0.00e+00]\n",
      " [ 1.42e+01  0.00e+00]\n",
      " [ 5.19e+00  6.38e+00]\n",
      " [ 1.84e+00  0.00e+00]\n",
      " [ 2.17e+01  8.65e+01]\n",
      " [ 4.80e+00  0.00e+00]\n",
      " [ 2.22e+01  0.00e+00]\n",
      " [ 2.02e+01  0.00e+00]\n",
      " [ 2.01e+01  1.23e+00]\n",
      " [ 1.11e+01  0.00e+00]\n",
      " [ 1.86e+01  8.02e+00]\n",
      " [ 1.73e+01  0.00e+00]\n",
      " [ 2.04e+01  1.86e+02]\n",
      " [ 1.46e+01  0.00e+00]\n",
      " [ 1.51e+01  0.00e+00]\n",
      " [ 1.65e+01  1.19e+00]\n",
      " [ 4.52e+00  0.00e+00]\n",
      " [ 1.41e+01  1.31e+01]\n",
      " [ 7.19e+00  0.00e+00]\n",
      " [ 1.38e+01  6.96e+00]\n",
      " [ 1.57e+01  0.00e+00]\n",
      " [ 7.73e+00  0.00e+00]\n",
      " [ 8.28e+00  0.00e+00]\n",
      " [ 1.73e+01  0.00e+00]\n",
      " [ 7.23e+00  3.59e+01]\n",
      " [ 1.03e+01  1.58e+00]\n",
      " [ 6.83e+00  2.47e+00]\n",
      " [ 1.50e+01  1.03e+02]\n",
      " [ 1.58e+01  3.02e+01]\n",
      " [ 8.41e+00  0.00e+00]\n",
      " [ 8.64e+00  0.00e+00]\n",
      " [ 8.10e+00  0.00e+00]\n",
      " [ 6.91e+00  2.29e+00]\n",
      " [ 9.54e+00  7.21e+00]\n",
      " [ 5.47e-01  0.00e+00]\n",
      " [ 1.17e+01  3.64e+00]\n",
      " [ 2.04e+01  2.44e+00]\n",
      " [ 1.72e+01  0.00e+00]\n",
      " [ 8.39e+00  2.21e+00]\n",
      " [ 7.29e+00  7.40e+00]\n",
      " [ 1.72e+01  0.00e+00]\n",
      " [-1.99e+00  0.00e+00]\n",
      " [ 9.55e+00  0.00e+00]\n",
      " [ 1.34e+01  0.00e+00]\n",
      " [ 1.58e+01  0.00e+00]\n",
      " [ 9.53e+00  0.00e+00]\n",
      " [ 1.52e+00  3.09e+00]\n",
      " [ 4.11e+00  0.00e+00]\n",
      " [ 1.26e+01  0.00e+00]\n",
      " [ 1.92e+01  0.00e+00]\n",
      " [ 1.48e+01  0.00e+00]\n",
      " [-4.00e+00  0.00e+00]\n",
      " [ 1.11e+01  2.10e-01]\n",
      " [ 1.78e+01  0.00e+00]\n",
      " [ 1.47e+01  1.95e+00]\n",
      " [ 2.22e+01  1.43e+01]\n",
      " [-3.88e+00  0.00e+00]\n",
      " [ 2.31e+01  9.00e-01]\n",
      " [ 9.03e+00  0.00e+00]\n",
      " [-8.44e-01  3.03e+01]\n",
      " [ 6.03e+00  0.00e+00]\n",
      " [ 2.30e+01  1.22e+01]\n",
      " [ 1.63e+01  0.00e+00]\n",
      " [ 1.12e+01  3.77e+01]\n",
      " [ 1.85e+01  6.80e-01]\n",
      " [ 1.05e+01  0.00e+00]\n",
      " [ 1.33e+01  0.00e+00]\n",
      " [ 1.49e+01  6.10e-01]\n",
      " [ 1.44e+01  2.01e+02]\n",
      " [ 2.02e+01  0.00e+00]\n",
      " [ 1.40e+01  5.80e+00]\n",
      " [ 1.55e+01  0.00e+00]\n",
      " [ 1.61e+01  7.48e+00]\n",
      " [ 4.52e+00  0.00e+00]\n",
      " [ 1.67e+01  2.35e+00]\n",
      " [ 4.61e+00  0.00e+00]\n",
      " [ 2.51e+00  3.30e+00]\n",
      " [ 1.83e+01  0.00e+00]\n",
      " [ 4.91e+00  0.00e+00]\n",
      " [ 1.97e+01  5.18e+00]\n",
      " [ 2.24e+01  7.03e+01]\n",
      " [ 1.57e+01  6.80e-01]\n",
      " [ 9.38e+00  0.00e+00]\n",
      " [ 1.86e+01  2.42e+01]\n",
      " [ 1.59e+01  1.60e+01]\n",
      " [ 1.16e+01  4.30e-01]\n",
      " [ 1.24e+01  0.00e+00]\n",
      " [ 1.86e+01  0.00e+00]\n",
      " [ 1.72e+01  0.00e+00]\n",
      " [-3.81e+00  9.96e+00]\n",
      " [-3.28e+00  0.00e+00]\n",
      " [ 1.12e+01  1.12e+01]\n",
      " [ 1.28e+01  0.00e+00]\n",
      " [ 8.77e+00  1.47e+00]\n",
      " [ 1.79e+01  0.00e+00]\n",
      " [ 1.15e+01  1.12e+00]]\n"
     ]
    }
   ],
   "source": [
    "y_pred = regressor.predict(X_test)\n",
    "np.set_printoptions(precision=2)\n",
    "print(np.concatenate((y_pred.reshape(len(y_pred),1), y_test.reshape(len(y_test),1)),1))"
   ]
  },
  {
   "cell_type": "code",
   "execution_count": 468,
   "id": "42523bb0",
   "metadata": {},
   "outputs": [
    {
     "data": {
      "text/plain": [
       "0.01911332535125132"
      ]
     },
     "execution_count": 468,
     "metadata": {},
     "output_type": "execute_result"
    }
   ],
   "source": [
    "# R Square test to check the model performance.\n",
    "from sklearn.metrics import mean_squared_error,r2_score\n",
    "r2_score(y_test, y_pred)"
   ]
  },
  {
   "cell_type": "code",
   "execution_count": 469,
   "id": "c67debaf",
   "metadata": {},
   "outputs": [
    {
     "data": {
      "text/plain": [
       "4476.838614631329"
      ]
     },
     "execution_count": 469,
     "metadata": {},
     "output_type": "execute_result"
    }
   ],
   "source": [
    "mean_squared_error(y_test, y_pred)"
   ]
  },
  {
   "cell_type": "markdown",
   "id": "aa633152",
   "metadata": {},
   "source": [
    "### 2. Polynomial  Regression "
   ]
  },
  {
   "cell_type": "code",
   "execution_count": 470,
   "id": "7d59563b",
   "metadata": {},
   "outputs": [],
   "source": [
    "from sklearn.model_selection import train_test_split\n",
    "X_train, X_test, y_train, y_test = train_test_split(X, y, test_size = 0.3, random_state = 0)"
   ]
  },
  {
   "cell_type": "code",
   "execution_count": 471,
   "id": "0f4dc9ed",
   "metadata": {},
   "outputs": [
    {
     "data": {
      "text/html": [
       "<style>#sk-container-id-40 {color: black;}#sk-container-id-40 pre{padding: 0;}#sk-container-id-40 div.sk-toggleable {background-color: white;}#sk-container-id-40 label.sk-toggleable__label {cursor: pointer;display: block;width: 100%;margin-bottom: 0;padding: 0.3em;box-sizing: border-box;text-align: center;}#sk-container-id-40 label.sk-toggleable__label-arrow:before {content: \"▸\";float: left;margin-right: 0.25em;color: #696969;}#sk-container-id-40 label.sk-toggleable__label-arrow:hover:before {color: black;}#sk-container-id-40 div.sk-estimator:hover label.sk-toggleable__label-arrow:before {color: black;}#sk-container-id-40 div.sk-toggleable__content {max-height: 0;max-width: 0;overflow: hidden;text-align: left;background-color: #f0f8ff;}#sk-container-id-40 div.sk-toggleable__content pre {margin: 0.2em;color: black;border-radius: 0.25em;background-color: #f0f8ff;}#sk-container-id-40 input.sk-toggleable__control:checked~div.sk-toggleable__content {max-height: 200px;max-width: 100%;overflow: auto;}#sk-container-id-40 input.sk-toggleable__control:checked~label.sk-toggleable__label-arrow:before {content: \"▾\";}#sk-container-id-40 div.sk-estimator input.sk-toggleable__control:checked~label.sk-toggleable__label {background-color: #d4ebff;}#sk-container-id-40 div.sk-label input.sk-toggleable__control:checked~label.sk-toggleable__label {background-color: #d4ebff;}#sk-container-id-40 input.sk-hidden--visually {border: 0;clip: rect(1px 1px 1px 1px);clip: rect(1px, 1px, 1px, 1px);height: 1px;margin: -1px;overflow: hidden;padding: 0;position: absolute;width: 1px;}#sk-container-id-40 div.sk-estimator {font-family: monospace;background-color: #f0f8ff;border: 1px dotted black;border-radius: 0.25em;box-sizing: border-box;margin-bottom: 0.5em;}#sk-container-id-40 div.sk-estimator:hover {background-color: #d4ebff;}#sk-container-id-40 div.sk-parallel-item::after {content: \"\";width: 100%;border-bottom: 1px solid gray;flex-grow: 1;}#sk-container-id-40 div.sk-label:hover label.sk-toggleable__label {background-color: #d4ebff;}#sk-container-id-40 div.sk-serial::before {content: \"\";position: absolute;border-left: 1px solid gray;box-sizing: border-box;top: 0;bottom: 0;left: 50%;z-index: 0;}#sk-container-id-40 div.sk-serial {display: flex;flex-direction: column;align-items: center;background-color: white;padding-right: 0.2em;padding-left: 0.2em;position: relative;}#sk-container-id-40 div.sk-item {position: relative;z-index: 1;}#sk-container-id-40 div.sk-parallel {display: flex;align-items: stretch;justify-content: center;background-color: white;position: relative;}#sk-container-id-40 div.sk-item::before, #sk-container-id-40 div.sk-parallel-item::before {content: \"\";position: absolute;border-left: 1px solid gray;box-sizing: border-box;top: 0;bottom: 0;left: 50%;z-index: -1;}#sk-container-id-40 div.sk-parallel-item {display: flex;flex-direction: column;z-index: 1;position: relative;background-color: white;}#sk-container-id-40 div.sk-parallel-item:first-child::after {align-self: flex-end;width: 50%;}#sk-container-id-40 div.sk-parallel-item:last-child::after {align-self: flex-start;width: 50%;}#sk-container-id-40 div.sk-parallel-item:only-child::after {width: 0;}#sk-container-id-40 div.sk-dashed-wrapped {border: 1px dashed gray;margin: 0 0.4em 0.5em 0.4em;box-sizing: border-box;padding-bottom: 0.4em;background-color: white;}#sk-container-id-40 div.sk-label label {font-family: monospace;font-weight: bold;display: inline-block;line-height: 1.2em;}#sk-container-id-40 div.sk-label-container {text-align: center;}#sk-container-id-40 div.sk-container {/* jupyter's `normalize.less` sets `[hidden] { display: none; }` but bootstrap.min.css set `[hidden] { display: none !important; }` so we also need the `!important` here to be able to override the default hidden behavior on the sphinx rendered scikit-learn.org. See: https://github.com/scikit-learn/scikit-learn/issues/21755 */display: inline-block !important;position: relative;}#sk-container-id-40 div.sk-text-repr-fallback {display: none;}</style><div id=\"sk-container-id-40\" class=\"sk-top-container\"><div class=\"sk-text-repr-fallback\"><pre>LinearRegression()</pre><b>In a Jupyter environment, please rerun this cell to show the HTML representation or trust the notebook. <br />On GitHub, the HTML representation is unable to render, please try loading this page with nbviewer.org.</b></div><div class=\"sk-container\" hidden><div class=\"sk-item\"><div class=\"sk-estimator sk-toggleable\"><input class=\"sk-toggleable__control sk-hidden--visually\" id=\"sk-estimator-id-40\" type=\"checkbox\" checked><label for=\"sk-estimator-id-40\" class=\"sk-toggleable__label sk-toggleable__label-arrow\">LinearRegression</label><div class=\"sk-toggleable__content\"><pre>LinearRegression()</pre></div></div></div></div></div>"
      ],
      "text/plain": [
       "LinearRegression()"
      ]
     },
     "execution_count": 471,
     "metadata": {},
     "output_type": "execute_result"
    }
   ],
   "source": [
    "from sklearn.preprocessing import PolynomialFeatures\n",
    "from sklearn.linear_model import LinearRegression\n",
    "poly_reg = PolynomialFeatures(degree = 4)\n",
    "X_poly = poly_reg.fit_transform(X_train)\n",
    "regressor = LinearRegression()\n",
    "regressor.fit(X_poly, y_train)"
   ]
  },
  {
   "cell_type": "code",
   "execution_count": 472,
   "id": "c87744c2",
   "metadata": {},
   "outputs": [
    {
     "name": "stdout",
     "output_type": "stream",
     "text": [
      "[[ 1.83e+02  0.00e+00]\n",
      " [ 5.78e+02  0.00e+00]\n",
      " [ 4.78e+01  4.67e+01]\n",
      " [-1.41e+01  2.03e+00]\n",
      " [ 3.23e+02  7.80e+00]\n",
      " [-5.69e+01  0.00e+00]\n",
      " [-1.28e+02  6.58e+00]\n",
      " [-3.90e+02  3.20e+00]\n",
      " [ 3.77e+02  2.53e+00]\n",
      " [-4.63e+01  1.90e+00]\n",
      " [-1.20e+02  0.00e+00]\n",
      " [ 1.81e+02  6.54e+00]\n",
      " [ 1.72e+02  7.90e-01]\n",
      " [ 2.93e+02  8.85e+01]\n",
      " [ 7.01e+02  5.33e+00]\n",
      " [ 8.67e+01  0.00e+00]\n",
      " [ 2.02e+01  2.64e+01]\n",
      " [-9.94e+02  1.37e+01]\n",
      " [ 4.82e+02  1.94e+00]\n",
      " [ 1.09e+02  0.00e+00]\n",
      " [ 1.58e+02  3.19e+01]\n",
      " [ 4.28e+02  0.00e+00]\n",
      " [-8.93e+02  1.01e+01]\n",
      " [ 1.96e+02  0.00e+00]\n",
      " [ 1.30e+02  0.00e+00]\n",
      " [ 8.50e+01  7.46e+02]\n",
      " [ 8.31e+01  0.00e+00]\n",
      " [ 1.59e+01  2.87e+01]\n",
      " [-1.94e+02  0.00e+00]\n",
      " [-1.52e+03  7.50e-01]\n",
      " [-3.67e+02  6.04e+00]\n",
      " [ 6.41e+02  0.00e+00]\n",
      " [ 6.62e+02  0.00e+00]\n",
      " [ 1.11e+03  5.43e+01]\n",
      " [ 3.56e+02  2.95e+01]\n",
      " [-9.33e+00  3.94e+01]\n",
      " [-2.76e+02  0.00e+00]\n",
      " [ 7.21e+02  6.84e+00]\n",
      " [ 1.99e+01  9.77e+00]\n",
      " [-1.46e+02  1.15e+01]\n",
      " [ 5.14e+02  1.56e+01]\n",
      " [ 7.39e+01  0.00e+00]\n",
      " [-3.96e+02  3.05e+00]\n",
      " [ 4.02e+01  1.96e+02]\n",
      " [ 2.48e+02  0.00e+00]\n",
      " [-1.13e+03  0.00e+00]\n",
      " [ 7.14e+02  6.11e+01]\n",
      " [ 4.44e+01  2.93e+00]\n",
      " [ 1.21e+03  0.00e+00]\n",
      " [-3.51e+01  0.00e+00]\n",
      " [-3.22e+03  0.00e+00]\n",
      " [-2.60e+02  5.23e+00]\n",
      " [ 1.19e+02  9.52e+01]\n",
      " [-9.66e+02  1.43e+00]\n",
      " [-1.74e+01  4.70e-01]\n",
      " [ 6.76e+02  0.00e+00]\n",
      " [ 4.93e+02  0.00e+00]\n",
      " [ 1.74e+02  6.38e+00]\n",
      " [-1.64e+02  0.00e+00]\n",
      " [ 7.01e+02  8.65e+01]\n",
      " [-3.82e+01  0.00e+00]\n",
      " [-6.81e+00  0.00e+00]\n",
      " [ 2.85e+02  0.00e+00]\n",
      " [-6.37e+02  1.23e+00]\n",
      " [-1.82e+02  0.00e+00]\n",
      " [ 1.87e+02  8.02e+00]\n",
      " [ 2.17e+02  0.00e+00]\n",
      " [-2.30e+00  1.86e+02]\n",
      " [ 4.88e+02  0.00e+00]\n",
      " [-2.43e+01  0.00e+00]\n",
      " [-8.91e+02  1.19e+00]\n",
      " [ 1.33e+02  0.00e+00]\n",
      " [ 1.26e+00  1.31e+01]\n",
      " [-1.88e+02  0.00e+00]\n",
      " [-6.12e+01  6.96e+00]\n",
      " [-1.15e+02  0.00e+00]\n",
      " [ 2.88e+02  0.00e+00]\n",
      " [ 3.53e+01  0.00e+00]\n",
      " [-5.51e+02  0.00e+00]\n",
      " [-2.68e+02  3.59e+01]\n",
      " [ 1.49e+02  1.58e+00]\n",
      " [-2.15e+01  2.47e+00]\n",
      " [-1.14e+00  1.03e+02]\n",
      " [ 2.12e+01  3.02e+01]\n",
      " [-1.16e+03  0.00e+00]\n",
      " [-4.28e+02  0.00e+00]\n",
      " [-9.55e+02  0.00e+00]\n",
      " [-3.51e+02  2.29e+00]\n",
      " [-9.27e+02  7.21e+00]\n",
      " [ 7.39e+02  0.00e+00]\n",
      " [ 3.84e+02  3.64e+00]\n",
      " [-7.58e+02  2.44e+00]\n",
      " [-1.39e+02  0.00e+00]\n",
      " [-3.18e+02  2.21e+00]\n",
      " [ 1.26e+01  7.40e+00]\n",
      " [-4.38e+02  0.00e+00]\n",
      " [ 4.33e+02  0.00e+00]\n",
      " [-2.89e+02  0.00e+00]\n",
      " [ 5.06e+01  0.00e+00]\n",
      " [-4.28e+02  0.00e+00]\n",
      " [ 3.44e+02  0.00e+00]\n",
      " [ 2.71e+02  3.09e+00]\n",
      " [-6.87e+02  0.00e+00]\n",
      " [-2.90e+02  0.00e+00]\n",
      " [-3.52e+02  0.00e+00]\n",
      " [ 7.56e+02  0.00e+00]\n",
      " [-5.37e+02  0.00e+00]\n",
      " [-1.19e+01  2.10e-01]\n",
      " [ 2.60e+02  0.00e+00]\n",
      " [-5.86e+00  1.95e+00]\n",
      " [-2.06e+01  1.43e+01]\n",
      " [-2.60e+03  0.00e+00]\n",
      " [ 4.30e+02  9.00e-01]\n",
      " [-1.48e+02  0.00e+00]\n",
      " [-3.20e+02  3.03e+01]\n",
      " [-2.60e+02  0.00e+00]\n",
      " [ 2.68e+02  1.22e+01]\n",
      " [-5.02e+01  0.00e+00]\n",
      " [-4.90e+02  3.77e+01]\n",
      " [ 1.47e+02  6.80e-01]\n",
      " [ 2.42e+02  0.00e+00]\n",
      " [ 1.03e+02  0.00e+00]\n",
      " [-1.94e+03  6.10e-01]\n",
      " [ 4.68e+02  2.01e+02]\n",
      " [ 2.65e+02  0.00e+00]\n",
      " [-1.15e+02  5.80e+00]\n",
      " [ 1.04e+02  0.00e+00]\n",
      " [ 4.55e+02  7.48e+00]\n",
      " [-2.29e+02  0.00e+00]\n",
      " [-5.75e+02  2.35e+00]\n",
      " [ 2.24e+03  0.00e+00]\n",
      " [-7.33e+02  3.30e+00]\n",
      " [ 5.58e+01  0.00e+00]\n",
      " [-9.98e+01  0.00e+00]\n",
      " [-1.37e+02  5.18e+00]\n",
      " [-1.23e+02  7.03e+01]\n",
      " [ 2.43e+02  6.80e-01]\n",
      " [-7.90e+02  0.00e+00]\n",
      " [-1.74e+02  2.42e+01]\n",
      " [ 5.55e+02  1.60e+01]\n",
      " [ 1.07e+03  4.30e-01]\n",
      " [ 1.62e+02  0.00e+00]\n",
      " [ 5.86e+00  0.00e+00]\n",
      " [ 1.23e+01  0.00e+00]\n",
      " [ 2.03e+02  9.96e+00]\n",
      " [-4.54e+02  0.00e+00]\n",
      " [-1.82e+02  1.12e+01]\n",
      " [ 2.55e+02  0.00e+00]\n",
      " [ 1.43e+02  1.47e+00]\n",
      " [ 2.24e+02  0.00e+00]\n",
      " [-4.13e+02  1.12e+00]]\n"
     ]
    }
   ],
   "source": [
    "y_pred = regressor.predict(poly_reg.transform(X_test))\n",
    "np.set_printoptions(precision=2)\n",
    "print(np.concatenate((y_pred.reshape(len(y_pred),1), y_test.reshape(len(y_test),1)),1))"
   ]
  },
  {
   "cell_type": "code",
   "execution_count": 473,
   "id": "b7a28359",
   "metadata": {},
   "outputs": [
    {
     "data": {
      "text/plain": [
       "-79.60602084812112"
      ]
     },
     "execution_count": 473,
     "metadata": {},
     "output_type": "execute_result"
    }
   ],
   "source": [
    "from sklearn.metrics import mean_squared_error, r2_score\n",
    "r2_score(y_test, y_pred)"
   ]
  },
  {
   "cell_type": "code",
   "execution_count": 474,
   "id": "8489998c",
   "metadata": {},
   "outputs": [
    {
     "data": {
      "text/plain": [
       "367891.78202861105"
      ]
     },
     "execution_count": 474,
     "metadata": {},
     "output_type": "execute_result"
    }
   ],
   "source": [
    "mean_squared_error(y_test, y_pred)"
   ]
  },
  {
   "cell_type": "markdown",
   "id": "2044a10e",
   "metadata": {},
   "source": [
    "### 3. Decision Tree Regression "
   ]
  },
  {
   "cell_type": "code",
   "execution_count": 475,
   "id": "63cd6a46",
   "metadata": {},
   "outputs": [],
   "source": [
    "from sklearn.model_selection import train_test_split\n",
    "X_train, X_test, y_train, y_test = train_test_split(X, y, test_size = 0.3, random_state = 0)"
   ]
  },
  {
   "cell_type": "code",
   "execution_count": 476,
   "id": "69f1678e",
   "metadata": {},
   "outputs": [
    {
     "data": {
      "text/html": [
       "<style>#sk-container-id-41 {color: black;}#sk-container-id-41 pre{padding: 0;}#sk-container-id-41 div.sk-toggleable {background-color: white;}#sk-container-id-41 label.sk-toggleable__label {cursor: pointer;display: block;width: 100%;margin-bottom: 0;padding: 0.3em;box-sizing: border-box;text-align: center;}#sk-container-id-41 label.sk-toggleable__label-arrow:before {content: \"▸\";float: left;margin-right: 0.25em;color: #696969;}#sk-container-id-41 label.sk-toggleable__label-arrow:hover:before {color: black;}#sk-container-id-41 div.sk-estimator:hover label.sk-toggleable__label-arrow:before {color: black;}#sk-container-id-41 div.sk-toggleable__content {max-height: 0;max-width: 0;overflow: hidden;text-align: left;background-color: #f0f8ff;}#sk-container-id-41 div.sk-toggleable__content pre {margin: 0.2em;color: black;border-radius: 0.25em;background-color: #f0f8ff;}#sk-container-id-41 input.sk-toggleable__control:checked~div.sk-toggleable__content {max-height: 200px;max-width: 100%;overflow: auto;}#sk-container-id-41 input.sk-toggleable__control:checked~label.sk-toggleable__label-arrow:before {content: \"▾\";}#sk-container-id-41 div.sk-estimator input.sk-toggleable__control:checked~label.sk-toggleable__label {background-color: #d4ebff;}#sk-container-id-41 div.sk-label input.sk-toggleable__control:checked~label.sk-toggleable__label {background-color: #d4ebff;}#sk-container-id-41 input.sk-hidden--visually {border: 0;clip: rect(1px 1px 1px 1px);clip: rect(1px, 1px, 1px, 1px);height: 1px;margin: -1px;overflow: hidden;padding: 0;position: absolute;width: 1px;}#sk-container-id-41 div.sk-estimator {font-family: monospace;background-color: #f0f8ff;border: 1px dotted black;border-radius: 0.25em;box-sizing: border-box;margin-bottom: 0.5em;}#sk-container-id-41 div.sk-estimator:hover {background-color: #d4ebff;}#sk-container-id-41 div.sk-parallel-item::after {content: \"\";width: 100%;border-bottom: 1px solid gray;flex-grow: 1;}#sk-container-id-41 div.sk-label:hover label.sk-toggleable__label {background-color: #d4ebff;}#sk-container-id-41 div.sk-serial::before {content: \"\";position: absolute;border-left: 1px solid gray;box-sizing: border-box;top: 0;bottom: 0;left: 50%;z-index: 0;}#sk-container-id-41 div.sk-serial {display: flex;flex-direction: column;align-items: center;background-color: white;padding-right: 0.2em;padding-left: 0.2em;position: relative;}#sk-container-id-41 div.sk-item {position: relative;z-index: 1;}#sk-container-id-41 div.sk-parallel {display: flex;align-items: stretch;justify-content: center;background-color: white;position: relative;}#sk-container-id-41 div.sk-item::before, #sk-container-id-41 div.sk-parallel-item::before {content: \"\";position: absolute;border-left: 1px solid gray;box-sizing: border-box;top: 0;bottom: 0;left: 50%;z-index: -1;}#sk-container-id-41 div.sk-parallel-item {display: flex;flex-direction: column;z-index: 1;position: relative;background-color: white;}#sk-container-id-41 div.sk-parallel-item:first-child::after {align-self: flex-end;width: 50%;}#sk-container-id-41 div.sk-parallel-item:last-child::after {align-self: flex-start;width: 50%;}#sk-container-id-41 div.sk-parallel-item:only-child::after {width: 0;}#sk-container-id-41 div.sk-dashed-wrapped {border: 1px dashed gray;margin: 0 0.4em 0.5em 0.4em;box-sizing: border-box;padding-bottom: 0.4em;background-color: white;}#sk-container-id-41 div.sk-label label {font-family: monospace;font-weight: bold;display: inline-block;line-height: 1.2em;}#sk-container-id-41 div.sk-label-container {text-align: center;}#sk-container-id-41 div.sk-container {/* jupyter's `normalize.less` sets `[hidden] { display: none; }` but bootstrap.min.css set `[hidden] { display: none !important; }` so we also need the `!important` here to be able to override the default hidden behavior on the sphinx rendered scikit-learn.org. See: https://github.com/scikit-learn/scikit-learn/issues/21755 */display: inline-block !important;position: relative;}#sk-container-id-41 div.sk-text-repr-fallback {display: none;}</style><div id=\"sk-container-id-41\" class=\"sk-top-container\"><div class=\"sk-text-repr-fallback\"><pre>DecisionTreeRegressor(random_state=0)</pre><b>In a Jupyter environment, please rerun this cell to show the HTML representation or trust the notebook. <br />On GitHub, the HTML representation is unable to render, please try loading this page with nbviewer.org.</b></div><div class=\"sk-container\" hidden><div class=\"sk-item\"><div class=\"sk-estimator sk-toggleable\"><input class=\"sk-toggleable__control sk-hidden--visually\" id=\"sk-estimator-id-41\" type=\"checkbox\" checked><label for=\"sk-estimator-id-41\" class=\"sk-toggleable__label sk-toggleable__label-arrow\">DecisionTreeRegressor</label><div class=\"sk-toggleable__content\"><pre>DecisionTreeRegressor(random_state=0)</pre></div></div></div></div></div>"
      ],
      "text/plain": [
       "DecisionTreeRegressor(random_state=0)"
      ]
     },
     "execution_count": 476,
     "metadata": {},
     "output_type": "execute_result"
    }
   ],
   "source": [
    "from sklearn.tree import DecisionTreeRegressor\n",
    "regressor = DecisionTreeRegressor(random_state = 0)\n",
    "regressor.fit(X_train, y_train)"
   ]
  },
  {
   "cell_type": "code",
   "execution_count": 477,
   "id": "4a4eb94a",
   "metadata": {},
   "outputs": [
    {
     "name": "stdout",
     "output_type": "stream",
     "text": [
      "[[4.42e+00 0.00e+00]\n",
      " [4.96e+01 0.00e+00]\n",
      " [0.00e+00 4.67e+01]\n",
      " [0.00e+00 2.03e+00]\n",
      " [8.28e+01 7.80e+00]\n",
      " [1.31e+01 0.00e+00]\n",
      " [3.33e+00 6.58e+00]\n",
      " [3.63e+00 3.20e+00]\n",
      " [2.48e+01 2.53e+00]\n",
      " [2.55e+00 1.90e+00]\n",
      " [5.55e+00 0.00e+00]\n",
      " [0.00e+00 6.54e+00]\n",
      " [0.00e+00 7.90e-01]\n",
      " [9.41e+00 8.85e+01]\n",
      " [2.57e+00 5.33e+00]\n",
      " [0.00e+00 0.00e+00]\n",
      " [0.00e+00 2.64e+01]\n",
      " [1.72e+01 1.37e+01]\n",
      " [3.44e+01 1.94e+00]\n",
      " [0.00e+00 0.00e+00]\n",
      " [0.00e+00 3.19e+01]\n",
      " [0.00e+00 0.00e+00]\n",
      " [4.08e+00 1.01e+01]\n",
      " [0.00e+00 0.00e+00]\n",
      " [3.69e+01 0.00e+00]\n",
      " [0.00e+00 7.46e+02]\n",
      " [0.00e+00 0.00e+00]\n",
      " [0.00e+00 2.87e+01]\n",
      " [1.46e+00 0.00e+00]\n",
      " [3.19e+00 7.50e-01]\n",
      " [0.00e+00 6.04e+00]\n",
      " [0.00e+00 0.00e+00]\n",
      " [5.18e+01 0.00e+00]\n",
      " [1.12e+01 5.43e+01]\n",
      " [3.07e+00 2.95e+01]\n",
      " [1.26e+01 3.94e+01]\n",
      " [1.61e+00 0.00e+00]\n",
      " [2.13e+02 6.84e+00]\n",
      " [1.99e+01 9.77e+00]\n",
      " [1.72e+01 1.15e+01]\n",
      " [8.12e+00 1.56e+01]\n",
      " [1.11e+01 0.00e+00]\n",
      " [6.43e+00 3.05e+00]\n",
      " [7.19e+00 1.96e+02]\n",
      " [2.13e+02 0.00e+00]\n",
      " [0.00e+00 0.00e+00]\n",
      " [3.44e+01 6.11e+01]\n",
      " [1.56e+00 2.93e+00]\n",
      " [7.08e+01 0.00e+00]\n",
      " [0.00e+00 0.00e+00]\n",
      " [0.00e+00 0.00e+00]\n",
      " [1.66e+00 5.23e+00]\n",
      " [6.41e+01 9.52e+01]\n",
      " [3.63e+00 1.43e+00]\n",
      " [7.30e+00 4.70e-01]\n",
      " [9.41e+00 0.00e+00]\n",
      " [2.82e+01 0.00e+00]\n",
      " [0.00e+00 6.38e+00]\n",
      " [2.14e+00 0.00e+00]\n",
      " [4.96e+01 8.65e+01]\n",
      " [0.00e+00 0.00e+00]\n",
      " [0.00e+00 0.00e+00]\n",
      " [1.52e+00 0.00e+00]\n",
      " [0.00e+00 1.23e+00]\n",
      " [4.88e+00 0.00e+00]\n",
      " [0.00e+00 8.02e+00]\n",
      " [0.00e+00 0.00e+00]\n",
      " [7.02e+00 1.86e+02]\n",
      " [4.40e+00 0.00e+00]\n",
      " [0.00e+00 0.00e+00]\n",
      " [2.64e+00 1.19e+00]\n",
      " [0.00e+00 0.00e+00]\n",
      " [1.26e+00 1.31e+01]\n",
      " [0.00e+00 0.00e+00]\n",
      " [0.00e+00 6.96e+00]\n",
      " [0.00e+00 0.00e+00]\n",
      " [0.00e+00 0.00e+00]\n",
      " [1.75e+00 0.00e+00]\n",
      " [0.00e+00 0.00e+00]\n",
      " [0.00e+00 3.59e+01]\n",
      " [1.01e+00 1.58e+00]\n",
      " [0.00e+00 2.47e+00]\n",
      " [0.00e+00 1.03e+02]\n",
      " [4.95e+00 3.02e+01]\n",
      " [3.93e+00 0.00e+00]\n",
      " [1.63e+01 0.00e+00]\n",
      " [3.21e+01 0.00e+00]\n",
      " [3.07e+00 2.29e+00]\n",
      " [0.00e+00 7.21e+00]\n",
      " [2.13e+02 0.00e+00]\n",
      " [2.46e+01 3.64e+00]\n",
      " [0.00e+00 2.44e+00]\n",
      " [3.78e+00 0.00e+00]\n",
      " [0.00e+00 2.21e+00]\n",
      " [1.21e+01 7.40e+00]\n",
      " [4.29e+01 0.00e+00]\n",
      " [7.10e-01 0.00e+00]\n",
      " [0.00e+00 0.00e+00]\n",
      " [0.00e+00 0.00e+00]\n",
      " [4.85e+01 0.00e+00]\n",
      " [0.00e+00 0.00e+00]\n",
      " [6.43e+00 3.09e+00]\n",
      " [3.60e-01 0.00e+00]\n",
      " [1.64e+01 0.00e+00]\n",
      " [0.00e+00 0.00e+00]\n",
      " [0.00e+00 0.00e+00]\n",
      " [0.00e+00 0.00e+00]\n",
      " [0.00e+00 2.10e-01]\n",
      " [9.41e+00 0.00e+00]\n",
      " [1.63e+01 1.95e+00]\n",
      " [1.76e+00 1.43e+01]\n",
      " [0.00e+00 0.00e+00]\n",
      " [0.00e+00 9.00e-01]\n",
      " [1.66e+00 0.00e+00]\n",
      " [2.13e+00 3.03e+01]\n",
      " [1.83e+01 0.00e+00]\n",
      " [7.08e+01 1.22e+01]\n",
      " [0.00e+00 0.00e+00]\n",
      " [0.00e+00 3.77e+01]\n",
      " [0.00e+00 6.80e-01]\n",
      " [0.00e+00 0.00e+00]\n",
      " [1.56e+00 0.00e+00]\n",
      " [0.00e+00 6.10e-01]\n",
      " [1.75e+02 2.01e+02]\n",
      " [4.85e+01 0.00e+00]\n",
      " [2.13e+02 5.80e+00]\n",
      " [0.00e+00 0.00e+00]\n",
      " [5.60e+01 7.48e+00]\n",
      " [0.00e+00 0.00e+00]\n",
      " [1.95e+00 2.35e+00]\n",
      " [0.00e+00 0.00e+00]\n",
      " [0.00e+00 3.30e+00]\n",
      " [1.38e+00 0.00e+00]\n",
      " [7.10e-01 0.00e+00]\n",
      " [2.57e+00 5.18e+00]\n",
      " [0.00e+00 7.03e+01]\n",
      " [0.00e+00 6.80e-01]\n",
      " [0.00e+00 0.00e+00]\n",
      " [1.61e+00 2.42e+01]\n",
      " [4.25e+00 1.60e+01]\n",
      " [0.00e+00 4.30e-01]\n",
      " [0.00e+00 0.00e+00]\n",
      " [0.00e+00 0.00e+00]\n",
      " [0.00e+00 0.00e+00]\n",
      " [4.62e+00 9.96e+00]\n",
      " [0.00e+00 0.00e+00]\n",
      " [1.75e+00 1.12e+01]\n",
      " [0.00e+00 0.00e+00]\n",
      " [5.60e+01 1.47e+00]\n",
      " [4.96e+01 0.00e+00]\n",
      " [2.34e+01 1.12e+00]]\n"
     ]
    }
   ],
   "source": [
    "y_pred = regressor.predict(X_test)\n",
    "np.set_printoptions(precision=2)\n",
    "print(np.concatenate((y_pred.reshape(len(y_pred),1), y_test.reshape(len(y_test),1)),1))"
   ]
  },
  {
   "cell_type": "code",
   "execution_count": 478,
   "id": "bf6a266d",
   "metadata": {},
   "outputs": [
    {
     "data": {
      "text/plain": [
       "-0.2784954346220341"
      ]
     },
     "execution_count": 478,
     "metadata": {},
     "output_type": "execute_result"
    }
   ],
   "source": [
    "from sklearn.metrics import mean_squared_error, r2_score\n",
    "r2_score(y_test, y_pred)"
   ]
  },
  {
   "cell_type": "code",
   "execution_count": 479,
   "id": "fe074e13",
   "metadata": {},
   "outputs": [
    {
     "data": {
      "text/plain": [
       "5835.146789403973"
      ]
     },
     "execution_count": 479,
     "metadata": {},
     "output_type": "execute_result"
    }
   ],
   "source": [
    "mean_squared_error(y_test, y_pred)"
   ]
  },
  {
   "cell_type": "markdown",
   "id": "f1105d3a",
   "metadata": {},
   "source": [
    "### 4. Random Forest Regression"
   ]
  },
  {
   "cell_type": "code",
   "execution_count": 480,
   "id": "8ab034dc",
   "metadata": {},
   "outputs": [],
   "source": [
    "#Data Splitting\n",
    "from sklearn.model_selection import train_test_split\n",
    "X_train, X_test, y_train, y_test = train_test_split(X, y, test_size = 0.3, random_state = 0)"
   ]
  },
  {
   "cell_type": "code",
   "execution_count": 481,
   "id": "6c1f33a5",
   "metadata": {},
   "outputs": [
    {
     "data": {
      "text/html": [
       "<style>#sk-container-id-42 {color: black;}#sk-container-id-42 pre{padding: 0;}#sk-container-id-42 div.sk-toggleable {background-color: white;}#sk-container-id-42 label.sk-toggleable__label {cursor: pointer;display: block;width: 100%;margin-bottom: 0;padding: 0.3em;box-sizing: border-box;text-align: center;}#sk-container-id-42 label.sk-toggleable__label-arrow:before {content: \"▸\";float: left;margin-right: 0.25em;color: #696969;}#sk-container-id-42 label.sk-toggleable__label-arrow:hover:before {color: black;}#sk-container-id-42 div.sk-estimator:hover label.sk-toggleable__label-arrow:before {color: black;}#sk-container-id-42 div.sk-toggleable__content {max-height: 0;max-width: 0;overflow: hidden;text-align: left;background-color: #f0f8ff;}#sk-container-id-42 div.sk-toggleable__content pre {margin: 0.2em;color: black;border-radius: 0.25em;background-color: #f0f8ff;}#sk-container-id-42 input.sk-toggleable__control:checked~div.sk-toggleable__content {max-height: 200px;max-width: 100%;overflow: auto;}#sk-container-id-42 input.sk-toggleable__control:checked~label.sk-toggleable__label-arrow:before {content: \"▾\";}#sk-container-id-42 div.sk-estimator input.sk-toggleable__control:checked~label.sk-toggleable__label {background-color: #d4ebff;}#sk-container-id-42 div.sk-label input.sk-toggleable__control:checked~label.sk-toggleable__label {background-color: #d4ebff;}#sk-container-id-42 input.sk-hidden--visually {border: 0;clip: rect(1px 1px 1px 1px);clip: rect(1px, 1px, 1px, 1px);height: 1px;margin: -1px;overflow: hidden;padding: 0;position: absolute;width: 1px;}#sk-container-id-42 div.sk-estimator {font-family: monospace;background-color: #f0f8ff;border: 1px dotted black;border-radius: 0.25em;box-sizing: border-box;margin-bottom: 0.5em;}#sk-container-id-42 div.sk-estimator:hover {background-color: #d4ebff;}#sk-container-id-42 div.sk-parallel-item::after {content: \"\";width: 100%;border-bottom: 1px solid gray;flex-grow: 1;}#sk-container-id-42 div.sk-label:hover label.sk-toggleable__label {background-color: #d4ebff;}#sk-container-id-42 div.sk-serial::before {content: \"\";position: absolute;border-left: 1px solid gray;box-sizing: border-box;top: 0;bottom: 0;left: 50%;z-index: 0;}#sk-container-id-42 div.sk-serial {display: flex;flex-direction: column;align-items: center;background-color: white;padding-right: 0.2em;padding-left: 0.2em;position: relative;}#sk-container-id-42 div.sk-item {position: relative;z-index: 1;}#sk-container-id-42 div.sk-parallel {display: flex;align-items: stretch;justify-content: center;background-color: white;position: relative;}#sk-container-id-42 div.sk-item::before, #sk-container-id-42 div.sk-parallel-item::before {content: \"\";position: absolute;border-left: 1px solid gray;box-sizing: border-box;top: 0;bottom: 0;left: 50%;z-index: -1;}#sk-container-id-42 div.sk-parallel-item {display: flex;flex-direction: column;z-index: 1;position: relative;background-color: white;}#sk-container-id-42 div.sk-parallel-item:first-child::after {align-self: flex-end;width: 50%;}#sk-container-id-42 div.sk-parallel-item:last-child::after {align-self: flex-start;width: 50%;}#sk-container-id-42 div.sk-parallel-item:only-child::after {width: 0;}#sk-container-id-42 div.sk-dashed-wrapped {border: 1px dashed gray;margin: 0 0.4em 0.5em 0.4em;box-sizing: border-box;padding-bottom: 0.4em;background-color: white;}#sk-container-id-42 div.sk-label label {font-family: monospace;font-weight: bold;display: inline-block;line-height: 1.2em;}#sk-container-id-42 div.sk-label-container {text-align: center;}#sk-container-id-42 div.sk-container {/* jupyter's `normalize.less` sets `[hidden] { display: none; }` but bootstrap.min.css set `[hidden] { display: none !important; }` so we also need the `!important` here to be able to override the default hidden behavior on the sphinx rendered scikit-learn.org. See: https://github.com/scikit-learn/scikit-learn/issues/21755 */display: inline-block !important;position: relative;}#sk-container-id-42 div.sk-text-repr-fallback {display: none;}</style><div id=\"sk-container-id-42\" class=\"sk-top-container\"><div class=\"sk-text-repr-fallback\"><pre>RandomForestRegressor(random_state=0)</pre><b>In a Jupyter environment, please rerun this cell to show the HTML representation or trust the notebook. <br />On GitHub, the HTML representation is unable to render, please try loading this page with nbviewer.org.</b></div><div class=\"sk-container\" hidden><div class=\"sk-item\"><div class=\"sk-estimator sk-toggleable\"><input class=\"sk-toggleable__control sk-hidden--visually\" id=\"sk-estimator-id-42\" type=\"checkbox\" checked><label for=\"sk-estimator-id-42\" class=\"sk-toggleable__label sk-toggleable__label-arrow\">RandomForestRegressor</label><div class=\"sk-toggleable__content\"><pre>RandomForestRegressor(random_state=0)</pre></div></div></div></div></div>"
      ],
      "text/plain": [
       "RandomForestRegressor(random_state=0)"
      ]
     },
     "execution_count": 481,
     "metadata": {},
     "output_type": "execute_result"
    }
   ],
   "source": [
    "from sklearn.ensemble import RandomForestRegressor\n",
    "regressor = RandomForestRegressor(n_estimators = 100, random_state = 0)\n",
    "regressor.fit(X_train, y_train)"
   ]
  },
  {
   "cell_type": "code",
   "execution_count": 482,
   "id": "8f59e57c",
   "metadata": {},
   "outputs": [
    {
     "name": "stdout",
     "output_type": "stream",
     "text": [
      "[[1.50e+00 0.00e+00]\n",
      " [9.30e+01 0.00e+00]\n",
      " [4.93e+00 4.67e+01]\n",
      " [5.94e+00 2.03e+00]\n",
      " [1.47e+01 7.80e+00]\n",
      " [4.85e+00 0.00e+00]\n",
      " [1.78e+01 6.58e+00]\n",
      " [4.90e+01 3.20e+00]\n",
      " [7.83e+00 2.53e+00]\n",
      " [4.62e+00 1.90e+00]\n",
      " [8.52e+00 0.00e+00]\n",
      " [2.00e+00 6.54e+00]\n",
      " [5.40e+00 7.90e-01]\n",
      " [1.73e+01 8.85e+01]\n",
      " [2.07e+01 5.33e+00]\n",
      " [1.64e+02 0.00e+00]\n",
      " [5.28e+01 2.64e+01]\n",
      " [5.94e+00 1.37e+01]\n",
      " [1.40e+01 1.94e+00]\n",
      " [4.52e+00 0.00e+00]\n",
      " [3.91e+00 3.19e+01]\n",
      " [3.67e+01 0.00e+00]\n",
      " [1.01e+01 1.01e+01]\n",
      " [2.44e+00 0.00e+00]\n",
      " [1.76e+01 0.00e+00]\n",
      " [2.68e+01 7.46e+02]\n",
      " [5.05e+00 0.00e+00]\n",
      " [3.30e+00 2.87e+01]\n",
      " [3.82e+00 0.00e+00]\n",
      " [6.31e+00 7.50e-01]\n",
      " [4.46e+00 6.04e+00]\n",
      " [5.35e+01 0.00e+00]\n",
      " [1.15e+01 0.00e+00]\n",
      " [5.15e+01 5.43e+01]\n",
      " [4.83e+00 2.95e+01]\n",
      " [1.24e+01 3.94e+01]\n",
      " [1.81e+01 0.00e+00]\n",
      " [3.61e+01 6.84e+00]\n",
      " [1.98e+01 9.77e+00]\n",
      " [1.99e+01 1.15e+01]\n",
      " [1.12e+01 1.56e+01]\n",
      " [1.18e+01 0.00e+00]\n",
      " [4.91e+01 3.05e+00]\n",
      " [2.48e+00 1.96e+02]\n",
      " [4.12e+01 0.00e+00]\n",
      " [3.23e+00 0.00e+00]\n",
      " [1.21e+01 6.11e+01]\n",
      " [6.89e+00 2.93e+00]\n",
      " [3.84e+01 0.00e+00]\n",
      " [2.53e+00 0.00e+00]\n",
      " [1.46e+01 0.00e+00]\n",
      " [1.30e+01 5.23e+00]\n",
      " [3.24e+01 9.52e+01]\n",
      " [2.93e+01 1.43e+00]\n",
      " [2.26e+01 4.70e-01]\n",
      " [2.92e+01 0.00e+00]\n",
      " [1.14e+01 0.00e+00]\n",
      " [1.08e+01 6.38e+00]\n",
      " [4.70e+00 0.00e+00]\n",
      " [9.74e+00 8.65e+01]\n",
      " [3.44e+01 0.00e+00]\n",
      " [3.61e+01 0.00e+00]\n",
      " [9.33e+00 0.00e+00]\n",
      " [1.49e+01 1.23e+00]\n",
      " [9.01e+00 0.00e+00]\n",
      " [3.47e+00 8.02e+00]\n",
      " [5.69e+00 0.00e+00]\n",
      " [1.57e+01 1.86e+02]\n",
      " [5.40e+00 0.00e+00]\n",
      " [1.50e+01 0.00e+00]\n",
      " [4.08e+00 1.19e+00]\n",
      " [1.68e+01 0.00e+00]\n",
      " [2.56e+00 1.31e+01]\n",
      " [9.61e+00 0.00e+00]\n",
      " [6.82e+00 6.96e+00]\n",
      " [1.54e+01 0.00e+00]\n",
      " [7.71e+00 0.00e+00]\n",
      " [6.00e+00 0.00e+00]\n",
      " [4.74e+01 0.00e+00]\n",
      " [1.97e+00 3.59e+01]\n",
      " [4.75e+00 1.58e+00]\n",
      " [2.79e+00 2.47e+00]\n",
      " [4.27e+00 1.03e+02]\n",
      " [8.47e+00 3.02e+01]\n",
      " [9.06e+00 0.00e+00]\n",
      " [7.99e+00 0.00e+00]\n",
      " [1.01e+01 0.00e+00]\n",
      " [4.32e+00 2.29e+00]\n",
      " [1.75e+01 7.21e+00]\n",
      " [3.30e+01 0.00e+00]\n",
      " [1.55e+01 3.64e+00]\n",
      " [9.51e+01 2.44e+00]\n",
      " [1.95e+01 0.00e+00]\n",
      " [5.55e+00 2.21e+00]\n",
      " [3.41e+00 7.40e+00]\n",
      " [1.26e+01 0.00e+00]\n",
      " [1.30e+01 0.00e+00]\n",
      " [4.16e+00 0.00e+00]\n",
      " [4.33e+00 0.00e+00]\n",
      " [3.07e+01 0.00e+00]\n",
      " [4.57e+00 0.00e+00]\n",
      " [6.26e+00 3.09e+00]\n",
      " [7.48e+00 0.00e+00]\n",
      " [1.06e+01 0.00e+00]\n",
      " [5.04e+00 0.00e+00]\n",
      " [1.73e+01 0.00e+00]\n",
      " [2.04e+00 0.00e+00]\n",
      " [2.87e+00 2.10e-01]\n",
      " [1.34e+02 0.00e+00]\n",
      " [2.47e+01 1.95e+00]\n",
      " [4.63e+01 1.43e+01]\n",
      " [6.10e+00 0.00e+00]\n",
      " [1.75e+01 9.00e-01]\n",
      " [1.05e+01 0.00e+00]\n",
      " [1.58e+01 3.03e+01]\n",
      " [1.01e+01 0.00e+00]\n",
      " [2.00e+01 1.22e+01]\n",
      " [1.38e+02 0.00e+00]\n",
      " [8.11e+00 3.77e+01]\n",
      " [3.65e+00 6.80e-01]\n",
      " [5.64e+00 0.00e+00]\n",
      " [2.61e+00 0.00e+00]\n",
      " [7.09e+00 6.10e-01]\n",
      " [3.82e+01 2.01e+02]\n",
      " [1.46e+01 0.00e+00]\n",
      " [4.09e+01 5.80e+00]\n",
      " [1.30e+01 0.00e+00]\n",
      " [2.18e+01 7.48e+00]\n",
      " [6.81e+00 0.00e+00]\n",
      " [2.63e+01 2.35e+00]\n",
      " [5.45e+00 0.00e+00]\n",
      " [3.73e+00 3.30e+00]\n",
      " [2.65e+00 0.00e+00]\n",
      " [9.74e+00 0.00e+00]\n",
      " [7.16e+00 5.18e+00]\n",
      " [9.67e+00 7.03e+01]\n",
      " [4.17e+00 6.80e-01]\n",
      " [3.85e+01 0.00e+00]\n",
      " [2.44e+01 2.42e+01]\n",
      " [6.26e+00 1.60e+01]\n",
      " [3.31e+00 4.30e-01]\n",
      " [6.09e+00 0.00e+00]\n",
      " [4.14e+01 0.00e+00]\n",
      " [1.74e+01 0.00e+00]\n",
      " [1.35e+01 9.96e+00]\n",
      " [1.02e+01 0.00e+00]\n",
      " [3.98e+00 1.12e+01]\n",
      " [3.44e+00 0.00e+00]\n",
      " [7.86e+00 1.47e+00]\n",
      " [9.64e+00 0.00e+00]\n",
      " [1.43e+01 1.12e+00]]\n"
     ]
    }
   ],
   "source": [
    "y_pred = regressor.predict(X_test)\n",
    "np.set_printoptions(precision=2)\n",
    "print(np.concatenate((y_pred.reshape(len(y_pred),1), y_test.reshape(len(y_test),1)),1))"
   ]
  },
  {
   "cell_type": "code",
   "execution_count": 483,
   "id": "4c02357f",
   "metadata": {},
   "outputs": [
    {
     "data": {
      "text/plain": [
       "-0.11236104506702271"
      ]
     },
     "execution_count": 483,
     "metadata": {},
     "output_type": "execute_result"
    }
   ],
   "source": [
    "from sklearn.metrics import mean_squared_error, r2_score\n",
    "r2_score(y_test, y_pred)"
   ]
  },
  {
   "cell_type": "code",
   "execution_count": 484,
   "id": "f3ef0f43",
   "metadata": {},
   "outputs": [
    {
     "data": {
      "text/plain": [
       "5076.897269249757"
      ]
     },
     "execution_count": 484,
     "metadata": {},
     "output_type": "execute_result"
    }
   ],
   "source": [
    "mean_squared_error(y_test, y_pred)"
   ]
  },
  {
   "cell_type": "markdown",
   "id": "fa49aeb2",
   "metadata": {},
   "source": [
    "### 5. K Neighbors Regression"
   ]
  },
  {
   "cell_type": "code",
   "execution_count": 485,
   "id": "b520386a",
   "metadata": {},
   "outputs": [],
   "source": [
    "from sklearn.model_selection import train_test_split\n",
    "X_train, X_test, y_train, y_test = train_test_split(X, y, test_size = 0.3, random_state = 0)"
   ]
  },
  {
   "cell_type": "code",
   "execution_count": 486,
   "id": "234dbe93",
   "metadata": {},
   "outputs": [
    {
     "data": {
      "text/html": [
       "<style>#sk-container-id-43 {color: black;}#sk-container-id-43 pre{padding: 0;}#sk-container-id-43 div.sk-toggleable {background-color: white;}#sk-container-id-43 label.sk-toggleable__label {cursor: pointer;display: block;width: 100%;margin-bottom: 0;padding: 0.3em;box-sizing: border-box;text-align: center;}#sk-container-id-43 label.sk-toggleable__label-arrow:before {content: \"▸\";float: left;margin-right: 0.25em;color: #696969;}#sk-container-id-43 label.sk-toggleable__label-arrow:hover:before {color: black;}#sk-container-id-43 div.sk-estimator:hover label.sk-toggleable__label-arrow:before {color: black;}#sk-container-id-43 div.sk-toggleable__content {max-height: 0;max-width: 0;overflow: hidden;text-align: left;background-color: #f0f8ff;}#sk-container-id-43 div.sk-toggleable__content pre {margin: 0.2em;color: black;border-radius: 0.25em;background-color: #f0f8ff;}#sk-container-id-43 input.sk-toggleable__control:checked~div.sk-toggleable__content {max-height: 200px;max-width: 100%;overflow: auto;}#sk-container-id-43 input.sk-toggleable__control:checked~label.sk-toggleable__label-arrow:before {content: \"▾\";}#sk-container-id-43 div.sk-estimator input.sk-toggleable__control:checked~label.sk-toggleable__label {background-color: #d4ebff;}#sk-container-id-43 div.sk-label input.sk-toggleable__control:checked~label.sk-toggleable__label {background-color: #d4ebff;}#sk-container-id-43 input.sk-hidden--visually {border: 0;clip: rect(1px 1px 1px 1px);clip: rect(1px, 1px, 1px, 1px);height: 1px;margin: -1px;overflow: hidden;padding: 0;position: absolute;width: 1px;}#sk-container-id-43 div.sk-estimator {font-family: monospace;background-color: #f0f8ff;border: 1px dotted black;border-radius: 0.25em;box-sizing: border-box;margin-bottom: 0.5em;}#sk-container-id-43 div.sk-estimator:hover {background-color: #d4ebff;}#sk-container-id-43 div.sk-parallel-item::after {content: \"\";width: 100%;border-bottom: 1px solid gray;flex-grow: 1;}#sk-container-id-43 div.sk-label:hover label.sk-toggleable__label {background-color: #d4ebff;}#sk-container-id-43 div.sk-serial::before {content: \"\";position: absolute;border-left: 1px solid gray;box-sizing: border-box;top: 0;bottom: 0;left: 50%;z-index: 0;}#sk-container-id-43 div.sk-serial {display: flex;flex-direction: column;align-items: center;background-color: white;padding-right: 0.2em;padding-left: 0.2em;position: relative;}#sk-container-id-43 div.sk-item {position: relative;z-index: 1;}#sk-container-id-43 div.sk-parallel {display: flex;align-items: stretch;justify-content: center;background-color: white;position: relative;}#sk-container-id-43 div.sk-item::before, #sk-container-id-43 div.sk-parallel-item::before {content: \"\";position: absolute;border-left: 1px solid gray;box-sizing: border-box;top: 0;bottom: 0;left: 50%;z-index: -1;}#sk-container-id-43 div.sk-parallel-item {display: flex;flex-direction: column;z-index: 1;position: relative;background-color: white;}#sk-container-id-43 div.sk-parallel-item:first-child::after {align-self: flex-end;width: 50%;}#sk-container-id-43 div.sk-parallel-item:last-child::after {align-self: flex-start;width: 50%;}#sk-container-id-43 div.sk-parallel-item:only-child::after {width: 0;}#sk-container-id-43 div.sk-dashed-wrapped {border: 1px dashed gray;margin: 0 0.4em 0.5em 0.4em;box-sizing: border-box;padding-bottom: 0.4em;background-color: white;}#sk-container-id-43 div.sk-label label {font-family: monospace;font-weight: bold;display: inline-block;line-height: 1.2em;}#sk-container-id-43 div.sk-label-container {text-align: center;}#sk-container-id-43 div.sk-container {/* jupyter's `normalize.less` sets `[hidden] { display: none; }` but bootstrap.min.css set `[hidden] { display: none !important; }` so we also need the `!important` here to be able to override the default hidden behavior on the sphinx rendered scikit-learn.org. See: https://github.com/scikit-learn/scikit-learn/issues/21755 */display: inline-block !important;position: relative;}#sk-container-id-43 div.sk-text-repr-fallback {display: none;}</style><div id=\"sk-container-id-43\" class=\"sk-top-container\"><div class=\"sk-text-repr-fallback\"><pre>KNeighborsRegressor()</pre><b>In a Jupyter environment, please rerun this cell to show the HTML representation or trust the notebook. <br />On GitHub, the HTML representation is unable to render, please try loading this page with nbviewer.org.</b></div><div class=\"sk-container\" hidden><div class=\"sk-item\"><div class=\"sk-estimator sk-toggleable\"><input class=\"sk-toggleable__control sk-hidden--visually\" id=\"sk-estimator-id-43\" type=\"checkbox\" checked><label for=\"sk-estimator-id-43\" class=\"sk-toggleable__label sk-toggleable__label-arrow\">KNeighborsRegressor</label><div class=\"sk-toggleable__content\"><pre>KNeighborsRegressor()</pre></div></div></div></div></div>"
      ],
      "text/plain": [
       "KNeighborsRegressor()"
      ]
     },
     "execution_count": 486,
     "metadata": {},
     "output_type": "execute_result"
    }
   ],
   "source": [
    "from sklearn.neighbors import KNeighborsRegressor\n",
    "regressor = KNeighborsRegressor(n_neighbors=5)\n",
    "regressor.fit(X_train, y_train)"
   ]
  },
  {
   "cell_type": "code",
   "execution_count": 487,
   "id": "c0c7f78a",
   "metadata": {},
   "outputs": [
    {
     "name": "stdout",
     "output_type": "stream",
     "text": [
      "[[8.20e-02 0.00e+00]\n",
      " [2.49e+02 0.00e+00]\n",
      " [3.40e-02 4.67e+01]\n",
      " [4.46e+00 2.03e+00]\n",
      " [1.69e+01 7.80e+00]\n",
      " [2.96e+00 0.00e+00]\n",
      " [9.18e-01 6.58e+00]\n",
      " [2.72e+01 3.20e+00]\n",
      " [3.64e+00 2.53e+00]\n",
      " [5.01e+00 1.90e+00]\n",
      " [1.75e+00 0.00e+00]\n",
      " [8.68e-01 6.54e+00]\n",
      " [2.92e+00 7.90e-01]\n",
      " [1.04e+01 8.85e+01]\n",
      " [2.51e+02 5.33e+00]\n",
      " [1.19e+01 0.00e+00]\n",
      " [4.41e+00 2.64e+01]\n",
      " [1.09e+00 1.37e+01]\n",
      " [1.63e+01 1.94e+00]\n",
      " [2.54e+00 0.00e+00]\n",
      " [6.08e+00 3.19e+01]\n",
      " [3.59e+01 0.00e+00]\n",
      " [1.52e+00 1.01e+01]\n",
      " [0.00e+00 0.00e+00]\n",
      " [1.59e+01 0.00e+00]\n",
      " [1.17e+00 7.46e+02]\n",
      " [3.40e-02 0.00e+00]\n",
      " [9.92e-01 2.87e+01]\n",
      " [8.54e-01 0.00e+00]\n",
      " [1.45e+01 7.50e-01]\n",
      " [1.97e+00 6.04e+00]\n",
      " [1.12e+01 0.00e+00]\n",
      " [1.59e+01 0.00e+00]\n",
      " [2.23e+00 5.43e+01]\n",
      " [2.25e+00 2.95e+01]\n",
      " [1.04e+01 3.94e+01]\n",
      " [9.18e-01 0.00e+00]\n",
      " [5.28e+00 6.84e+00]\n",
      " [1.51e+01 9.77e+00]\n",
      " [4.66e+01 1.15e+01]\n",
      " [9.58e+00 1.56e+01]\n",
      " [8.56e+00 0.00e+00]\n",
      " [2.72e+01 3.05e+00]\n",
      " [9.48e-01 1.96e+02]\n",
      " [1.84e+00 0.00e+00]\n",
      " [1.09e+00 0.00e+00]\n",
      " [2.20e-01 6.11e+01]\n",
      " [5.92e+00 2.93e+00]\n",
      " [1.65e+01 0.00e+00]\n",
      " [5.52e+00 0.00e+00]\n",
      " [0.00e+00 0.00e+00]\n",
      " [3.40e-02 5.23e+00]\n",
      " [1.34e+01 9.52e+01]\n",
      " [1.99e+00 1.43e+00]\n",
      " [4.82e+01 4.70e-01]\n",
      " [1.04e+01 0.00e+00]\n",
      " [8.03e+00 0.00e+00]\n",
      " [1.35e+01 6.38e+00]\n",
      " [1.75e+00 0.00e+00]\n",
      " [1.47e+00 8.65e+01]\n",
      " [5.40e-01 0.00e+00]\n",
      " [3.67e+00 0.00e+00]\n",
      " [2.06e+01 0.00e+00]\n",
      " [1.28e+00 1.23e+00]\n",
      " [8.03e+00 0.00e+00]\n",
      " [2.42e+00 8.02e+00]\n",
      " [5.52e+00 0.00e+00]\n",
      " [2.23e+01 1.86e+02]\n",
      " [5.21e+00 0.00e+00]\n",
      " [9.48e-01 0.00e+00]\n",
      " [1.64e+00 1.19e+00]\n",
      " [3.64e+00 0.00e+00]\n",
      " [9.18e-01 1.31e+01]\n",
      " [8.25e+00 0.00e+00]\n",
      " [5.35e+00 6.96e+00]\n",
      " [0.00e+00 0.00e+00]\n",
      " [2.16e+00 0.00e+00]\n",
      " [5.73e+00 0.00e+00]\n",
      " [1.01e+01 0.00e+00]\n",
      " [1.26e+01 3.59e+01]\n",
      " [1.22e+01 1.58e+00]\n",
      " [1.03e+00 2.47e+00]\n",
      " [4.75e+01 1.03e+02]\n",
      " [4.07e+00 3.02e+01]\n",
      " [1.60e+01 0.00e+00]\n",
      " [5.92e+00 0.00e+00]\n",
      " [8.57e+00 0.00e+00]\n",
      " [9.66e-01 2.29e+00]\n",
      " [9.58e+00 7.21e+00]\n",
      " [2.67e+00 0.00e+00]\n",
      " [8.06e+00 3.64e+00]\n",
      " [3.04e+00 2.44e+00]\n",
      " [9.58e+00 0.00e+00]\n",
      " [6.00e+01 2.21e+00]\n",
      " [4.62e+00 7.40e+00]\n",
      " [1.16e+01 0.00e+00]\n",
      " [1.18e+01 0.00e+00]\n",
      " [1.16e+01 0.00e+00]\n",
      " [6.54e-01 0.00e+00]\n",
      " [1.01e+01 0.00e+00]\n",
      " [0.00e+00 0.00e+00]\n",
      " [2.89e+00 3.09e+00]\n",
      " [1.75e+00 0.00e+00]\n",
      " [7.18e+00 0.00e+00]\n",
      " [2.62e+01 0.00e+00]\n",
      " [1.17e+00 0.00e+00]\n",
      " [5.23e+00 0.00e+00]\n",
      " [9.28e-01 2.10e-01]\n",
      " [2.03e+01 0.00e+00]\n",
      " [0.00e+00 1.95e+00]\n",
      " [1.19e+01 1.43e+01]\n",
      " [7.23e+00 0.00e+00]\n",
      " [4.50e+00 9.00e-01]\n",
      " [2.25e+00 0.00e+00]\n",
      " [5.08e-01 3.03e+01]\n",
      " [7.40e+00 0.00e+00]\n",
      " [1.58e+01 1.22e+01]\n",
      " [1.19e+01 0.00e+00]\n",
      " [2.03e+00 3.77e+01]\n",
      " [6.02e-01 6.80e-01]\n",
      " [3.07e+00 0.00e+00]\n",
      " [6.54e-01 0.00e+00]\n",
      " [2.03e+00 6.10e-01]\n",
      " [1.46e+00 2.01e+02]\n",
      " [3.99e+01 0.00e+00]\n",
      " [2.25e+01 5.80e+00]\n",
      " [9.38e-01 0.00e+00]\n",
      " [1.71e+01 7.48e+00]\n",
      " [3.11e+00 0.00e+00]\n",
      " [1.28e+00 2.35e+00]\n",
      " [2.16e+00 0.00e+00]\n",
      " [8.59e+00 3.30e+00]\n",
      " [3.67e+00 0.00e+00]\n",
      " [1.59e+01 0.00e+00]\n",
      " [0.00e+00 5.18e+00]\n",
      " [1.95e+00 7.03e+01]\n",
      " [2.42e+00 6.80e-01]\n",
      " [1.01e+01 0.00e+00]\n",
      " [9.87e+00 2.42e+01]\n",
      " [1.85e+01 1.60e+01]\n",
      " [1.01e+01 4.30e-01]\n",
      " [1.12e+01 0.00e+00]\n",
      " [3.09e+00 0.00e+00]\n",
      " [4.68e+00 0.00e+00]\n",
      " [1.39e+01 9.96e+00]\n",
      " [2.80e+00 0.00e+00]\n",
      " [3.80e+00 1.12e+01]\n",
      " [2.42e+00 0.00e+00]\n",
      " [1.71e+01 1.47e+00]\n",
      " [2.75e+01 0.00e+00]\n",
      " [4.87e+00 1.12e+00]]\n"
     ]
    }
   ],
   "source": [
    "y_pred = regressor.predict(X_test)\n",
    "np.set_printoptions(precision=2)\n",
    "print(np.concatenate((y_pred.reshape(len(y_pred),1), y_test.reshape(len(y_test),1)),1))"
   ]
  },
  {
   "cell_type": "code",
   "execution_count": 488,
   "id": "9de9c4ad",
   "metadata": {},
   "outputs": [
    {
     "data": {
      "text/plain": [
       "-0.2259960563342458"
      ]
     },
     "execution_count": 488,
     "metadata": {},
     "output_type": "execute_result"
    }
   ],
   "source": [
    "from sklearn.metrics import mean_squared_error, r2_score\n",
    "r2_score(y_test, y_pred)"
   ]
  },
  {
   "cell_type": "code",
   "execution_count": 489,
   "id": "74d127dd",
   "metadata": {},
   "outputs": [
    {
     "data": {
      "text/plain": [
       "5595.535782304634"
      ]
     },
     "execution_count": 489,
     "metadata": {},
     "output_type": "execute_result"
    }
   ],
   "source": [
    "mean_squared_error(y_test, y_pred)"
   ]
  },
  {
   "cell_type": "markdown",
   "id": "1c06c46c",
   "metadata": {},
   "source": [
    "# Classification Models:"
   ]
  },
  {
   "cell_type": "markdown",
   "id": "c5ed55ef",
   "metadata": {},
   "source": [
    "Before moving on to the classification, lets convert the y values from continus to discrete."
   ]
  },
  {
   "cell_type": "code",
   "execution_count": 512,
   "id": "17f16b31",
   "metadata": {},
   "outputs": [],
   "source": [
    "def ordinal_encode(df, column, ordering):\n",
    "    df = df.copy()\n",
    "    df[column] = df[column].apply(lambda x: ordering.index(x))\n",
    "    return df"
   ]
  },
  {
   "cell_type": "code",
   "execution_count": 513,
   "id": "ff8aa594",
   "metadata": {},
   "outputs": [],
   "source": [
    "def preprocess_inputs(df, task='regression'):\n",
    "    df = df.copy()\n",
    "    \n",
    "    # Ordinal encode month and day columns\n",
    "    df = ordinal_encode(\n",
    "        df,\n",
    "        column='month',\n",
    "        ordering=[\n",
    "            'jan',\n",
    "            'feb',\n",
    "            'mar',\n",
    "            'apr',\n",
    "            'may',\n",
    "            'jun',\n",
    "            'jul',\n",
    "            'aug',\n",
    "            'sep',\n",
    "            'oct',\n",
    "            'nov',\n",
    "            'dec'\n",
    "        ]\n",
    "    )\n",
    "    df = ordinal_encode(\n",
    "        df,\n",
    "        column='day',\n",
    "        ordering=[\n",
    "            'sun',\n",
    "            'mon',\n",
    "            'tue',\n",
    "            'wed',\n",
    "            'thu',\n",
    "            'fri',\n",
    "            'sat'\n",
    "        ]\n",
    "    )\n",
    "    \n",
    "    # Split df into X and y\n",
    "    if task == 'regression':\n",
    "        y = df['area']\n",
    "    elif task == 'classification':\n",
    "        y = df['area'].apply(lambda x: 1 if x > 0 else 0)\n",
    "    \n",
    "    X = df.drop('area', axis=1)\n",
    "    \n",
    "    # Train-test split\n",
    "    X_train, X_test, y_train, y_test = train_test_split(X, y, train_size=0.6, shuffle=True, random_state=1)\n",
    "    \n",
    "    # Scale feature data (X)\n",
    "    scaler = StandardScaler()\n",
    "    scaler.fit(X_train)\n",
    "    \n",
    "    X_train = pd.DataFrame(scaler.transform(X_train), columns=X.columns)\n",
    "    X_test = pd.DataFrame(scaler.transform(X_test), columns=X.columns)\n",
    "    \n",
    "    return X_train, X_test, y_train, y_test"
   ]
  },
  {
   "cell_type": "markdown",
   "id": "dbe5f4e6",
   "metadata": {},
   "source": [
    "### 1. Logistic Regression "
   ]
  },
  {
   "cell_type": "code",
   "execution_count": 514,
   "id": "05469949",
   "metadata": {},
   "outputs": [],
   "source": [
    "from sklearn.model_selection import train_test_split\n",
    "X_train, X_test, y_train, y_test = preprocess_inputs(data, task='classification')"
   ]
  },
  {
   "cell_type": "code",
   "execution_count": 515,
   "id": "b3970795",
   "metadata": {
    "scrolled": true
   },
   "outputs": [
    {
     "data": {
      "text/html": [
       "<style>#sk-container-id-50 {color: black;}#sk-container-id-50 pre{padding: 0;}#sk-container-id-50 div.sk-toggleable {background-color: white;}#sk-container-id-50 label.sk-toggleable__label {cursor: pointer;display: block;width: 100%;margin-bottom: 0;padding: 0.3em;box-sizing: border-box;text-align: center;}#sk-container-id-50 label.sk-toggleable__label-arrow:before {content: \"▸\";float: left;margin-right: 0.25em;color: #696969;}#sk-container-id-50 label.sk-toggleable__label-arrow:hover:before {color: black;}#sk-container-id-50 div.sk-estimator:hover label.sk-toggleable__label-arrow:before {color: black;}#sk-container-id-50 div.sk-toggleable__content {max-height: 0;max-width: 0;overflow: hidden;text-align: left;background-color: #f0f8ff;}#sk-container-id-50 div.sk-toggleable__content pre {margin: 0.2em;color: black;border-radius: 0.25em;background-color: #f0f8ff;}#sk-container-id-50 input.sk-toggleable__control:checked~div.sk-toggleable__content {max-height: 200px;max-width: 100%;overflow: auto;}#sk-container-id-50 input.sk-toggleable__control:checked~label.sk-toggleable__label-arrow:before {content: \"▾\";}#sk-container-id-50 div.sk-estimator input.sk-toggleable__control:checked~label.sk-toggleable__label {background-color: #d4ebff;}#sk-container-id-50 div.sk-label input.sk-toggleable__control:checked~label.sk-toggleable__label {background-color: #d4ebff;}#sk-container-id-50 input.sk-hidden--visually {border: 0;clip: rect(1px 1px 1px 1px);clip: rect(1px, 1px, 1px, 1px);height: 1px;margin: -1px;overflow: hidden;padding: 0;position: absolute;width: 1px;}#sk-container-id-50 div.sk-estimator {font-family: monospace;background-color: #f0f8ff;border: 1px dotted black;border-radius: 0.25em;box-sizing: border-box;margin-bottom: 0.5em;}#sk-container-id-50 div.sk-estimator:hover {background-color: #d4ebff;}#sk-container-id-50 div.sk-parallel-item::after {content: \"\";width: 100%;border-bottom: 1px solid gray;flex-grow: 1;}#sk-container-id-50 div.sk-label:hover label.sk-toggleable__label {background-color: #d4ebff;}#sk-container-id-50 div.sk-serial::before {content: \"\";position: absolute;border-left: 1px solid gray;box-sizing: border-box;top: 0;bottom: 0;left: 50%;z-index: 0;}#sk-container-id-50 div.sk-serial {display: flex;flex-direction: column;align-items: center;background-color: white;padding-right: 0.2em;padding-left: 0.2em;position: relative;}#sk-container-id-50 div.sk-item {position: relative;z-index: 1;}#sk-container-id-50 div.sk-parallel {display: flex;align-items: stretch;justify-content: center;background-color: white;position: relative;}#sk-container-id-50 div.sk-item::before, #sk-container-id-50 div.sk-parallel-item::before {content: \"\";position: absolute;border-left: 1px solid gray;box-sizing: border-box;top: 0;bottom: 0;left: 50%;z-index: -1;}#sk-container-id-50 div.sk-parallel-item {display: flex;flex-direction: column;z-index: 1;position: relative;background-color: white;}#sk-container-id-50 div.sk-parallel-item:first-child::after {align-self: flex-end;width: 50%;}#sk-container-id-50 div.sk-parallel-item:last-child::after {align-self: flex-start;width: 50%;}#sk-container-id-50 div.sk-parallel-item:only-child::after {width: 0;}#sk-container-id-50 div.sk-dashed-wrapped {border: 1px dashed gray;margin: 0 0.4em 0.5em 0.4em;box-sizing: border-box;padding-bottom: 0.4em;background-color: white;}#sk-container-id-50 div.sk-label label {font-family: monospace;font-weight: bold;display: inline-block;line-height: 1.2em;}#sk-container-id-50 div.sk-label-container {text-align: center;}#sk-container-id-50 div.sk-container {/* jupyter's `normalize.less` sets `[hidden] { display: none; }` but bootstrap.min.css set `[hidden] { display: none !important; }` so we also need the `!important` here to be able to override the default hidden behavior on the sphinx rendered scikit-learn.org. See: https://github.com/scikit-learn/scikit-learn/issues/21755 */display: inline-block !important;position: relative;}#sk-container-id-50 div.sk-text-repr-fallback {display: none;}</style><div id=\"sk-container-id-50\" class=\"sk-top-container\"><div class=\"sk-text-repr-fallback\"><pre>LogisticRegression(random_state=0)</pre><b>In a Jupyter environment, please rerun this cell to show the HTML representation or trust the notebook. <br />On GitHub, the HTML representation is unable to render, please try loading this page with nbviewer.org.</b></div><div class=\"sk-container\" hidden><div class=\"sk-item\"><div class=\"sk-estimator sk-toggleable\"><input class=\"sk-toggleable__control sk-hidden--visually\" id=\"sk-estimator-id-50\" type=\"checkbox\" checked><label for=\"sk-estimator-id-50\" class=\"sk-toggleable__label sk-toggleable__label-arrow\">LogisticRegression</label><div class=\"sk-toggleable__content\"><pre>LogisticRegression(random_state=0)</pre></div></div></div></div></div>"
      ],
      "text/plain": [
       "LogisticRegression(random_state=0)"
      ]
     },
     "execution_count": 515,
     "metadata": {},
     "output_type": "execute_result"
    }
   ],
   "source": [
    "from sklearn.linear_model import LogisticRegression\n",
    "classifier = LogisticRegression(random_state = 0)\n",
    "classifier.fit(X_train, y_train)"
   ]
  },
  {
   "cell_type": "code",
   "execution_count": 516,
   "id": "0b92e0cf",
   "metadata": {},
   "outputs": [
    {
     "name": "stdout",
     "output_type": "stream",
     "text": [
      "[[46 49]\n",
      " [36 74]]\n",
      "Accuracy: 58.54%\n"
     ]
    }
   ],
   "source": [
    "from sklearn.metrics import confusion_matrix, accuracy_score\n",
    "y_pred = classifier.predict(X_test)\n",
    "cm = confusion_matrix(y_test, y_pred)\n",
    "print(cm)\n",
    "accuracy =accuracy_score(y_test, y_pred)\n",
    "print(f\"Accuracy: {accuracy * 100:.2f}%\")"
   ]
  },
  {
   "cell_type": "markdown",
   "id": "12eaaf17",
   "metadata": {},
   "source": [
    "### 2. Decision Tree Classification"
   ]
  },
  {
   "cell_type": "code",
   "execution_count": 517,
   "id": "61f9ad52",
   "metadata": {},
   "outputs": [],
   "source": [
    "from sklearn.model_selection import train_test_split\n",
    "X_train, X_test, y_train, y_test = preprocess_inputs(data, task='classification')"
   ]
  },
  {
   "cell_type": "code",
   "execution_count": 518,
   "id": "3041c2af",
   "metadata": {},
   "outputs": [
    {
     "data": {
      "text/html": [
       "<style>#sk-container-id-51 {color: black;}#sk-container-id-51 pre{padding: 0;}#sk-container-id-51 div.sk-toggleable {background-color: white;}#sk-container-id-51 label.sk-toggleable__label {cursor: pointer;display: block;width: 100%;margin-bottom: 0;padding: 0.3em;box-sizing: border-box;text-align: center;}#sk-container-id-51 label.sk-toggleable__label-arrow:before {content: \"▸\";float: left;margin-right: 0.25em;color: #696969;}#sk-container-id-51 label.sk-toggleable__label-arrow:hover:before {color: black;}#sk-container-id-51 div.sk-estimator:hover label.sk-toggleable__label-arrow:before {color: black;}#sk-container-id-51 div.sk-toggleable__content {max-height: 0;max-width: 0;overflow: hidden;text-align: left;background-color: #f0f8ff;}#sk-container-id-51 div.sk-toggleable__content pre {margin: 0.2em;color: black;border-radius: 0.25em;background-color: #f0f8ff;}#sk-container-id-51 input.sk-toggleable__control:checked~div.sk-toggleable__content {max-height: 200px;max-width: 100%;overflow: auto;}#sk-container-id-51 input.sk-toggleable__control:checked~label.sk-toggleable__label-arrow:before {content: \"▾\";}#sk-container-id-51 div.sk-estimator input.sk-toggleable__control:checked~label.sk-toggleable__label {background-color: #d4ebff;}#sk-container-id-51 div.sk-label input.sk-toggleable__control:checked~label.sk-toggleable__label {background-color: #d4ebff;}#sk-container-id-51 input.sk-hidden--visually {border: 0;clip: rect(1px 1px 1px 1px);clip: rect(1px, 1px, 1px, 1px);height: 1px;margin: -1px;overflow: hidden;padding: 0;position: absolute;width: 1px;}#sk-container-id-51 div.sk-estimator {font-family: monospace;background-color: #f0f8ff;border: 1px dotted black;border-radius: 0.25em;box-sizing: border-box;margin-bottom: 0.5em;}#sk-container-id-51 div.sk-estimator:hover {background-color: #d4ebff;}#sk-container-id-51 div.sk-parallel-item::after {content: \"\";width: 100%;border-bottom: 1px solid gray;flex-grow: 1;}#sk-container-id-51 div.sk-label:hover label.sk-toggleable__label {background-color: #d4ebff;}#sk-container-id-51 div.sk-serial::before {content: \"\";position: absolute;border-left: 1px solid gray;box-sizing: border-box;top: 0;bottom: 0;left: 50%;z-index: 0;}#sk-container-id-51 div.sk-serial {display: flex;flex-direction: column;align-items: center;background-color: white;padding-right: 0.2em;padding-left: 0.2em;position: relative;}#sk-container-id-51 div.sk-item {position: relative;z-index: 1;}#sk-container-id-51 div.sk-parallel {display: flex;align-items: stretch;justify-content: center;background-color: white;position: relative;}#sk-container-id-51 div.sk-item::before, #sk-container-id-51 div.sk-parallel-item::before {content: \"\";position: absolute;border-left: 1px solid gray;box-sizing: border-box;top: 0;bottom: 0;left: 50%;z-index: -1;}#sk-container-id-51 div.sk-parallel-item {display: flex;flex-direction: column;z-index: 1;position: relative;background-color: white;}#sk-container-id-51 div.sk-parallel-item:first-child::after {align-self: flex-end;width: 50%;}#sk-container-id-51 div.sk-parallel-item:last-child::after {align-self: flex-start;width: 50%;}#sk-container-id-51 div.sk-parallel-item:only-child::after {width: 0;}#sk-container-id-51 div.sk-dashed-wrapped {border: 1px dashed gray;margin: 0 0.4em 0.5em 0.4em;box-sizing: border-box;padding-bottom: 0.4em;background-color: white;}#sk-container-id-51 div.sk-label label {font-family: monospace;font-weight: bold;display: inline-block;line-height: 1.2em;}#sk-container-id-51 div.sk-label-container {text-align: center;}#sk-container-id-51 div.sk-container {/* jupyter's `normalize.less` sets `[hidden] { display: none; }` but bootstrap.min.css set `[hidden] { display: none !important; }` so we also need the `!important` here to be able to override the default hidden behavior on the sphinx rendered scikit-learn.org. See: https://github.com/scikit-learn/scikit-learn/issues/21755 */display: inline-block !important;position: relative;}#sk-container-id-51 div.sk-text-repr-fallback {display: none;}</style><div id=\"sk-container-id-51\" class=\"sk-top-container\"><div class=\"sk-text-repr-fallback\"><pre>DecisionTreeClassifier(criterion=&#x27;entropy&#x27;, random_state=0)</pre><b>In a Jupyter environment, please rerun this cell to show the HTML representation or trust the notebook. <br />On GitHub, the HTML representation is unable to render, please try loading this page with nbviewer.org.</b></div><div class=\"sk-container\" hidden><div class=\"sk-item\"><div class=\"sk-estimator sk-toggleable\"><input class=\"sk-toggleable__control sk-hidden--visually\" id=\"sk-estimator-id-51\" type=\"checkbox\" checked><label for=\"sk-estimator-id-51\" class=\"sk-toggleable__label sk-toggleable__label-arrow\">DecisionTreeClassifier</label><div class=\"sk-toggleable__content\"><pre>DecisionTreeClassifier(criterion=&#x27;entropy&#x27;, random_state=0)</pre></div></div></div></div></div>"
      ],
      "text/plain": [
       "DecisionTreeClassifier(criterion='entropy', random_state=0)"
      ]
     },
     "execution_count": 518,
     "metadata": {},
     "output_type": "execute_result"
    }
   ],
   "source": [
    "from sklearn.tree import DecisionTreeClassifier\n",
    "classifier = DecisionTreeClassifier(criterion = 'entropy', random_state = 0)\n",
    "classifier.fit(X_train, y_train)"
   ]
  },
  {
   "cell_type": "code",
   "execution_count": 519,
   "id": "1642c49a",
   "metadata": {},
   "outputs": [
    {
     "name": "stdout",
     "output_type": "stream",
     "text": [
      "[[54 41]\n",
      " [46 64]]\n",
      "Accuracy: 57.56%\n"
     ]
    }
   ],
   "source": [
    "from sklearn.metrics import confusion_matrix, accuracy_score\n",
    "y_pred = classifier.predict(X_test)\n",
    "cm = confusion_matrix(y_test, y_pred)\n",
    "print(cm)\n",
    "accuracy =accuracy_score(y_test, y_pred)\n",
    "print(f\"Accuracy: {accuracy * 100:.2f}%\")"
   ]
  },
  {
   "cell_type": "markdown",
   "id": "0cfc9834",
   "metadata": {},
   "source": [
    "### 3. K Nearest Neighbors"
   ]
  },
  {
   "cell_type": "code",
   "execution_count": 520,
   "id": "cc67c052",
   "metadata": {},
   "outputs": [],
   "source": [
    "from sklearn.model_selection import train_test_split\n",
    "X_train, X_test, y_train, y_test = preprocess_inputs(data, task='classification')"
   ]
  },
  {
   "cell_type": "code",
   "execution_count": 521,
   "id": "c2cb3758",
   "metadata": {},
   "outputs": [
    {
     "data": {
      "text/html": [
       "<style>#sk-container-id-52 {color: black;}#sk-container-id-52 pre{padding: 0;}#sk-container-id-52 div.sk-toggleable {background-color: white;}#sk-container-id-52 label.sk-toggleable__label {cursor: pointer;display: block;width: 100%;margin-bottom: 0;padding: 0.3em;box-sizing: border-box;text-align: center;}#sk-container-id-52 label.sk-toggleable__label-arrow:before {content: \"▸\";float: left;margin-right: 0.25em;color: #696969;}#sk-container-id-52 label.sk-toggleable__label-arrow:hover:before {color: black;}#sk-container-id-52 div.sk-estimator:hover label.sk-toggleable__label-arrow:before {color: black;}#sk-container-id-52 div.sk-toggleable__content {max-height: 0;max-width: 0;overflow: hidden;text-align: left;background-color: #f0f8ff;}#sk-container-id-52 div.sk-toggleable__content pre {margin: 0.2em;color: black;border-radius: 0.25em;background-color: #f0f8ff;}#sk-container-id-52 input.sk-toggleable__control:checked~div.sk-toggleable__content {max-height: 200px;max-width: 100%;overflow: auto;}#sk-container-id-52 input.sk-toggleable__control:checked~label.sk-toggleable__label-arrow:before {content: \"▾\";}#sk-container-id-52 div.sk-estimator input.sk-toggleable__control:checked~label.sk-toggleable__label {background-color: #d4ebff;}#sk-container-id-52 div.sk-label input.sk-toggleable__control:checked~label.sk-toggleable__label {background-color: #d4ebff;}#sk-container-id-52 input.sk-hidden--visually {border: 0;clip: rect(1px 1px 1px 1px);clip: rect(1px, 1px, 1px, 1px);height: 1px;margin: -1px;overflow: hidden;padding: 0;position: absolute;width: 1px;}#sk-container-id-52 div.sk-estimator {font-family: monospace;background-color: #f0f8ff;border: 1px dotted black;border-radius: 0.25em;box-sizing: border-box;margin-bottom: 0.5em;}#sk-container-id-52 div.sk-estimator:hover {background-color: #d4ebff;}#sk-container-id-52 div.sk-parallel-item::after {content: \"\";width: 100%;border-bottom: 1px solid gray;flex-grow: 1;}#sk-container-id-52 div.sk-label:hover label.sk-toggleable__label {background-color: #d4ebff;}#sk-container-id-52 div.sk-serial::before {content: \"\";position: absolute;border-left: 1px solid gray;box-sizing: border-box;top: 0;bottom: 0;left: 50%;z-index: 0;}#sk-container-id-52 div.sk-serial {display: flex;flex-direction: column;align-items: center;background-color: white;padding-right: 0.2em;padding-left: 0.2em;position: relative;}#sk-container-id-52 div.sk-item {position: relative;z-index: 1;}#sk-container-id-52 div.sk-parallel {display: flex;align-items: stretch;justify-content: center;background-color: white;position: relative;}#sk-container-id-52 div.sk-item::before, #sk-container-id-52 div.sk-parallel-item::before {content: \"\";position: absolute;border-left: 1px solid gray;box-sizing: border-box;top: 0;bottom: 0;left: 50%;z-index: -1;}#sk-container-id-52 div.sk-parallel-item {display: flex;flex-direction: column;z-index: 1;position: relative;background-color: white;}#sk-container-id-52 div.sk-parallel-item:first-child::after {align-self: flex-end;width: 50%;}#sk-container-id-52 div.sk-parallel-item:last-child::after {align-self: flex-start;width: 50%;}#sk-container-id-52 div.sk-parallel-item:only-child::after {width: 0;}#sk-container-id-52 div.sk-dashed-wrapped {border: 1px dashed gray;margin: 0 0.4em 0.5em 0.4em;box-sizing: border-box;padding-bottom: 0.4em;background-color: white;}#sk-container-id-52 div.sk-label label {font-family: monospace;font-weight: bold;display: inline-block;line-height: 1.2em;}#sk-container-id-52 div.sk-label-container {text-align: center;}#sk-container-id-52 div.sk-container {/* jupyter's `normalize.less` sets `[hidden] { display: none; }` but bootstrap.min.css set `[hidden] { display: none !important; }` so we also need the `!important` here to be able to override the default hidden behavior on the sphinx rendered scikit-learn.org. See: https://github.com/scikit-learn/scikit-learn/issues/21755 */display: inline-block !important;position: relative;}#sk-container-id-52 div.sk-text-repr-fallback {display: none;}</style><div id=\"sk-container-id-52\" class=\"sk-top-container\"><div class=\"sk-text-repr-fallback\"><pre>KNeighborsClassifier()</pre><b>In a Jupyter environment, please rerun this cell to show the HTML representation or trust the notebook. <br />On GitHub, the HTML representation is unable to render, please try loading this page with nbviewer.org.</b></div><div class=\"sk-container\" hidden><div class=\"sk-item\"><div class=\"sk-estimator sk-toggleable\"><input class=\"sk-toggleable__control sk-hidden--visually\" id=\"sk-estimator-id-52\" type=\"checkbox\" checked><label for=\"sk-estimator-id-52\" class=\"sk-toggleable__label sk-toggleable__label-arrow\">KNeighborsClassifier</label><div class=\"sk-toggleable__content\"><pre>KNeighborsClassifier()</pre></div></div></div></div></div>"
      ],
      "text/plain": [
       "KNeighborsClassifier()"
      ]
     },
     "execution_count": 521,
     "metadata": {},
     "output_type": "execute_result"
    }
   ],
   "source": [
    "from sklearn.neighbors import KNeighborsClassifier\n",
    "classifier = KNeighborsClassifier(n_neighbors = 5, metric = 'minkowski', p = 2)\n",
    "classifier.fit(X_train, y_train)"
   ]
  },
  {
   "cell_type": "code",
   "execution_count": 522,
   "id": "0a746afa",
   "metadata": {},
   "outputs": [
    {
     "name": "stdout",
     "output_type": "stream",
     "text": [
      "[[49 46]\n",
      " [44 66]]\n",
      "Accuracy: 56.10%\n"
     ]
    }
   ],
   "source": [
    "from sklearn.metrics import confusion_matrix, accuracy_score\n",
    "y_pred = classifier.predict(X_test)\n",
    "cm = confusion_matrix(y_test, y_pred)\n",
    "print(cm)\n",
    "accuracy =accuracy_score(y_test, y_pred)\n",
    "print(f\"Accuracy: {accuracy * 100:.2f}%\")"
   ]
  },
  {
   "cell_type": "markdown",
   "id": "630bbc0d",
   "metadata": {},
   "source": [
    "### 4. Random Forest Classification "
   ]
  },
  {
   "cell_type": "code",
   "execution_count": 523,
   "id": "d4653247",
   "metadata": {},
   "outputs": [],
   "source": [
    "from sklearn.model_selection import train_test_split\n",
    "X_train, X_test, y_train, y_test = preprocess_inputs(data, task='classification')"
   ]
  },
  {
   "cell_type": "code",
   "execution_count": 524,
   "id": "afb5df71",
   "metadata": {},
   "outputs": [
    {
     "data": {
      "text/html": [
       "<style>#sk-container-id-53 {color: black;}#sk-container-id-53 pre{padding: 0;}#sk-container-id-53 div.sk-toggleable {background-color: white;}#sk-container-id-53 label.sk-toggleable__label {cursor: pointer;display: block;width: 100%;margin-bottom: 0;padding: 0.3em;box-sizing: border-box;text-align: center;}#sk-container-id-53 label.sk-toggleable__label-arrow:before {content: \"▸\";float: left;margin-right: 0.25em;color: #696969;}#sk-container-id-53 label.sk-toggleable__label-arrow:hover:before {color: black;}#sk-container-id-53 div.sk-estimator:hover label.sk-toggleable__label-arrow:before {color: black;}#sk-container-id-53 div.sk-toggleable__content {max-height: 0;max-width: 0;overflow: hidden;text-align: left;background-color: #f0f8ff;}#sk-container-id-53 div.sk-toggleable__content pre {margin: 0.2em;color: black;border-radius: 0.25em;background-color: #f0f8ff;}#sk-container-id-53 input.sk-toggleable__control:checked~div.sk-toggleable__content {max-height: 200px;max-width: 100%;overflow: auto;}#sk-container-id-53 input.sk-toggleable__control:checked~label.sk-toggleable__label-arrow:before {content: \"▾\";}#sk-container-id-53 div.sk-estimator input.sk-toggleable__control:checked~label.sk-toggleable__label {background-color: #d4ebff;}#sk-container-id-53 div.sk-label input.sk-toggleable__control:checked~label.sk-toggleable__label {background-color: #d4ebff;}#sk-container-id-53 input.sk-hidden--visually {border: 0;clip: rect(1px 1px 1px 1px);clip: rect(1px, 1px, 1px, 1px);height: 1px;margin: -1px;overflow: hidden;padding: 0;position: absolute;width: 1px;}#sk-container-id-53 div.sk-estimator {font-family: monospace;background-color: #f0f8ff;border: 1px dotted black;border-radius: 0.25em;box-sizing: border-box;margin-bottom: 0.5em;}#sk-container-id-53 div.sk-estimator:hover {background-color: #d4ebff;}#sk-container-id-53 div.sk-parallel-item::after {content: \"\";width: 100%;border-bottom: 1px solid gray;flex-grow: 1;}#sk-container-id-53 div.sk-label:hover label.sk-toggleable__label {background-color: #d4ebff;}#sk-container-id-53 div.sk-serial::before {content: \"\";position: absolute;border-left: 1px solid gray;box-sizing: border-box;top: 0;bottom: 0;left: 50%;z-index: 0;}#sk-container-id-53 div.sk-serial {display: flex;flex-direction: column;align-items: center;background-color: white;padding-right: 0.2em;padding-left: 0.2em;position: relative;}#sk-container-id-53 div.sk-item {position: relative;z-index: 1;}#sk-container-id-53 div.sk-parallel {display: flex;align-items: stretch;justify-content: center;background-color: white;position: relative;}#sk-container-id-53 div.sk-item::before, #sk-container-id-53 div.sk-parallel-item::before {content: \"\";position: absolute;border-left: 1px solid gray;box-sizing: border-box;top: 0;bottom: 0;left: 50%;z-index: -1;}#sk-container-id-53 div.sk-parallel-item {display: flex;flex-direction: column;z-index: 1;position: relative;background-color: white;}#sk-container-id-53 div.sk-parallel-item:first-child::after {align-self: flex-end;width: 50%;}#sk-container-id-53 div.sk-parallel-item:last-child::after {align-self: flex-start;width: 50%;}#sk-container-id-53 div.sk-parallel-item:only-child::after {width: 0;}#sk-container-id-53 div.sk-dashed-wrapped {border: 1px dashed gray;margin: 0 0.4em 0.5em 0.4em;box-sizing: border-box;padding-bottom: 0.4em;background-color: white;}#sk-container-id-53 div.sk-label label {font-family: monospace;font-weight: bold;display: inline-block;line-height: 1.2em;}#sk-container-id-53 div.sk-label-container {text-align: center;}#sk-container-id-53 div.sk-container {/* jupyter's `normalize.less` sets `[hidden] { display: none; }` but bootstrap.min.css set `[hidden] { display: none !important; }` so we also need the `!important` here to be able to override the default hidden behavior on the sphinx rendered scikit-learn.org. See: https://github.com/scikit-learn/scikit-learn/issues/21755 */display: inline-block !important;position: relative;}#sk-container-id-53 div.sk-text-repr-fallback {display: none;}</style><div id=\"sk-container-id-53\" class=\"sk-top-container\"><div class=\"sk-text-repr-fallback\"><pre>RandomForestClassifier(criterion=&#x27;entropy&#x27;, n_estimators=10, random_state=0)</pre><b>In a Jupyter environment, please rerun this cell to show the HTML representation or trust the notebook. <br />On GitHub, the HTML representation is unable to render, please try loading this page with nbviewer.org.</b></div><div class=\"sk-container\" hidden><div class=\"sk-item\"><div class=\"sk-estimator sk-toggleable\"><input class=\"sk-toggleable__control sk-hidden--visually\" id=\"sk-estimator-id-53\" type=\"checkbox\" checked><label for=\"sk-estimator-id-53\" class=\"sk-toggleable__label sk-toggleable__label-arrow\">RandomForestClassifier</label><div class=\"sk-toggleable__content\"><pre>RandomForestClassifier(criterion=&#x27;entropy&#x27;, n_estimators=10, random_state=0)</pre></div></div></div></div></div>"
      ],
      "text/plain": [
       "RandomForestClassifier(criterion='entropy', n_estimators=10, random_state=0)"
      ]
     },
     "execution_count": 524,
     "metadata": {},
     "output_type": "execute_result"
    }
   ],
   "source": [
    "from sklearn.ensemble import RandomForestClassifier\n",
    "classifier = RandomForestClassifier(n_estimators = 10, criterion = 'entropy', random_state = 0)\n",
    "classifier.fit(X_train, y_train)"
   ]
  },
  {
   "cell_type": "code",
   "execution_count": 525,
   "id": "858a4f0b",
   "metadata": {},
   "outputs": [
    {
     "name": "stdout",
     "output_type": "stream",
     "text": [
      "[[60 35]\n",
      " [42 68]]\n",
      "Accuracy: 62.44%\n"
     ]
    }
   ],
   "source": [
    "from sklearn.metrics import confusion_matrix, accuracy_score\n",
    "y_pred = classifier.predict(X_test)\n",
    "cm = confusion_matrix(y_test, y_pred)\n",
    "print(cm)\n",
    "accuracy =accuracy_score(y_test, y_pred)\n",
    "print(f\"Accuracy: {accuracy * 100:.2f}%\")"
   ]
  },
  {
   "cell_type": "markdown",
   "id": "b270c2d6",
   "metadata": {},
   "source": [
    "### 5. Support Vector Machine "
   ]
  },
  {
   "cell_type": "code",
   "execution_count": 526,
   "id": "278e8a69",
   "metadata": {},
   "outputs": [],
   "source": [
    "from sklearn.model_selection import train_test_split\n",
    "X_train, X_test, y_train, y_test = preprocess_inputs(data, task='classification')"
   ]
  },
  {
   "cell_type": "code",
   "execution_count": 527,
   "id": "cf553bb6",
   "metadata": {},
   "outputs": [
    {
     "data": {
      "text/html": [
       "<style>#sk-container-id-54 {color: black;}#sk-container-id-54 pre{padding: 0;}#sk-container-id-54 div.sk-toggleable {background-color: white;}#sk-container-id-54 label.sk-toggleable__label {cursor: pointer;display: block;width: 100%;margin-bottom: 0;padding: 0.3em;box-sizing: border-box;text-align: center;}#sk-container-id-54 label.sk-toggleable__label-arrow:before {content: \"▸\";float: left;margin-right: 0.25em;color: #696969;}#sk-container-id-54 label.sk-toggleable__label-arrow:hover:before {color: black;}#sk-container-id-54 div.sk-estimator:hover label.sk-toggleable__label-arrow:before {color: black;}#sk-container-id-54 div.sk-toggleable__content {max-height: 0;max-width: 0;overflow: hidden;text-align: left;background-color: #f0f8ff;}#sk-container-id-54 div.sk-toggleable__content pre {margin: 0.2em;color: black;border-radius: 0.25em;background-color: #f0f8ff;}#sk-container-id-54 input.sk-toggleable__control:checked~div.sk-toggleable__content {max-height: 200px;max-width: 100%;overflow: auto;}#sk-container-id-54 input.sk-toggleable__control:checked~label.sk-toggleable__label-arrow:before {content: \"▾\";}#sk-container-id-54 div.sk-estimator input.sk-toggleable__control:checked~label.sk-toggleable__label {background-color: #d4ebff;}#sk-container-id-54 div.sk-label input.sk-toggleable__control:checked~label.sk-toggleable__label {background-color: #d4ebff;}#sk-container-id-54 input.sk-hidden--visually {border: 0;clip: rect(1px 1px 1px 1px);clip: rect(1px, 1px, 1px, 1px);height: 1px;margin: -1px;overflow: hidden;padding: 0;position: absolute;width: 1px;}#sk-container-id-54 div.sk-estimator {font-family: monospace;background-color: #f0f8ff;border: 1px dotted black;border-radius: 0.25em;box-sizing: border-box;margin-bottom: 0.5em;}#sk-container-id-54 div.sk-estimator:hover {background-color: #d4ebff;}#sk-container-id-54 div.sk-parallel-item::after {content: \"\";width: 100%;border-bottom: 1px solid gray;flex-grow: 1;}#sk-container-id-54 div.sk-label:hover label.sk-toggleable__label {background-color: #d4ebff;}#sk-container-id-54 div.sk-serial::before {content: \"\";position: absolute;border-left: 1px solid gray;box-sizing: border-box;top: 0;bottom: 0;left: 50%;z-index: 0;}#sk-container-id-54 div.sk-serial {display: flex;flex-direction: column;align-items: center;background-color: white;padding-right: 0.2em;padding-left: 0.2em;position: relative;}#sk-container-id-54 div.sk-item {position: relative;z-index: 1;}#sk-container-id-54 div.sk-parallel {display: flex;align-items: stretch;justify-content: center;background-color: white;position: relative;}#sk-container-id-54 div.sk-item::before, #sk-container-id-54 div.sk-parallel-item::before {content: \"\";position: absolute;border-left: 1px solid gray;box-sizing: border-box;top: 0;bottom: 0;left: 50%;z-index: -1;}#sk-container-id-54 div.sk-parallel-item {display: flex;flex-direction: column;z-index: 1;position: relative;background-color: white;}#sk-container-id-54 div.sk-parallel-item:first-child::after {align-self: flex-end;width: 50%;}#sk-container-id-54 div.sk-parallel-item:last-child::after {align-self: flex-start;width: 50%;}#sk-container-id-54 div.sk-parallel-item:only-child::after {width: 0;}#sk-container-id-54 div.sk-dashed-wrapped {border: 1px dashed gray;margin: 0 0.4em 0.5em 0.4em;box-sizing: border-box;padding-bottom: 0.4em;background-color: white;}#sk-container-id-54 div.sk-label label {font-family: monospace;font-weight: bold;display: inline-block;line-height: 1.2em;}#sk-container-id-54 div.sk-label-container {text-align: center;}#sk-container-id-54 div.sk-container {/* jupyter's `normalize.less` sets `[hidden] { display: none; }` but bootstrap.min.css set `[hidden] { display: none !important; }` so we also need the `!important` here to be able to override the default hidden behavior on the sphinx rendered scikit-learn.org. See: https://github.com/scikit-learn/scikit-learn/issues/21755 */display: inline-block !important;position: relative;}#sk-container-id-54 div.sk-text-repr-fallback {display: none;}</style><div id=\"sk-container-id-54\" class=\"sk-top-container\"><div class=\"sk-text-repr-fallback\"><pre>SVC(kernel=&#x27;linear&#x27;, random_state=0)</pre><b>In a Jupyter environment, please rerun this cell to show the HTML representation or trust the notebook. <br />On GitHub, the HTML representation is unable to render, please try loading this page with nbviewer.org.</b></div><div class=\"sk-container\" hidden><div class=\"sk-item\"><div class=\"sk-estimator sk-toggleable\"><input class=\"sk-toggleable__control sk-hidden--visually\" id=\"sk-estimator-id-54\" type=\"checkbox\" checked><label for=\"sk-estimator-id-54\" class=\"sk-toggleable__label sk-toggleable__label-arrow\">SVC</label><div class=\"sk-toggleable__content\"><pre>SVC(kernel=&#x27;linear&#x27;, random_state=0)</pre></div></div></div></div></div>"
      ],
      "text/plain": [
       "SVC(kernel='linear', random_state=0)"
      ]
     },
     "execution_count": 527,
     "metadata": {},
     "output_type": "execute_result"
    }
   ],
   "source": [
    "from sklearn.svm import SVC\n",
    "classifier = SVC(kernel = 'linear', random_state = 0)\n",
    "classifier.fit(X_train, y_train)"
   ]
  },
  {
   "cell_type": "code",
   "execution_count": 528,
   "id": "b340c7d5",
   "metadata": {},
   "outputs": [
    {
     "name": "stdout",
     "output_type": "stream",
     "text": [
      "[[21 74]\n",
      " [16 94]]\n",
      "Accuracy: 56.10%\n"
     ]
    }
   ],
   "source": [
    "from sklearn.metrics import confusion_matrix, accuracy_score\n",
    "y_pred = classifier.predict(X_test)\n",
    "cm = confusion_matrix(y_test, y_pred)\n",
    "print(cm)\n",
    "accuracy =accuracy_score(y_test, y_pred)\n",
    "print(f\"Accuracy: {accuracy * 100:.2f}%\")"
   ]
  },
  {
   "cell_type": "markdown",
   "id": "daab4032",
   "metadata": {},
   "source": [
    "### 6. Naive Bayes"
   ]
  },
  {
   "cell_type": "code",
   "execution_count": 532,
   "id": "a6d2c612",
   "metadata": {},
   "outputs": [],
   "source": [
    "from sklearn.model_selection import train_test_split\n",
    "X_train, X_test, y_train, y_test = preprocess_inputs(data, task='classification')"
   ]
  },
  {
   "cell_type": "code",
   "execution_count": 533,
   "id": "4e42dcca",
   "metadata": {},
   "outputs": [
    {
     "data": {
      "text/html": [
       "<style>#sk-container-id-55 {color: black;}#sk-container-id-55 pre{padding: 0;}#sk-container-id-55 div.sk-toggleable {background-color: white;}#sk-container-id-55 label.sk-toggleable__label {cursor: pointer;display: block;width: 100%;margin-bottom: 0;padding: 0.3em;box-sizing: border-box;text-align: center;}#sk-container-id-55 label.sk-toggleable__label-arrow:before {content: \"▸\";float: left;margin-right: 0.25em;color: #696969;}#sk-container-id-55 label.sk-toggleable__label-arrow:hover:before {color: black;}#sk-container-id-55 div.sk-estimator:hover label.sk-toggleable__label-arrow:before {color: black;}#sk-container-id-55 div.sk-toggleable__content {max-height: 0;max-width: 0;overflow: hidden;text-align: left;background-color: #f0f8ff;}#sk-container-id-55 div.sk-toggleable__content pre {margin: 0.2em;color: black;border-radius: 0.25em;background-color: #f0f8ff;}#sk-container-id-55 input.sk-toggleable__control:checked~div.sk-toggleable__content {max-height: 200px;max-width: 100%;overflow: auto;}#sk-container-id-55 input.sk-toggleable__control:checked~label.sk-toggleable__label-arrow:before {content: \"▾\";}#sk-container-id-55 div.sk-estimator input.sk-toggleable__control:checked~label.sk-toggleable__label {background-color: #d4ebff;}#sk-container-id-55 div.sk-label input.sk-toggleable__control:checked~label.sk-toggleable__label {background-color: #d4ebff;}#sk-container-id-55 input.sk-hidden--visually {border: 0;clip: rect(1px 1px 1px 1px);clip: rect(1px, 1px, 1px, 1px);height: 1px;margin: -1px;overflow: hidden;padding: 0;position: absolute;width: 1px;}#sk-container-id-55 div.sk-estimator {font-family: monospace;background-color: #f0f8ff;border: 1px dotted black;border-radius: 0.25em;box-sizing: border-box;margin-bottom: 0.5em;}#sk-container-id-55 div.sk-estimator:hover {background-color: #d4ebff;}#sk-container-id-55 div.sk-parallel-item::after {content: \"\";width: 100%;border-bottom: 1px solid gray;flex-grow: 1;}#sk-container-id-55 div.sk-label:hover label.sk-toggleable__label {background-color: #d4ebff;}#sk-container-id-55 div.sk-serial::before {content: \"\";position: absolute;border-left: 1px solid gray;box-sizing: border-box;top: 0;bottom: 0;left: 50%;z-index: 0;}#sk-container-id-55 div.sk-serial {display: flex;flex-direction: column;align-items: center;background-color: white;padding-right: 0.2em;padding-left: 0.2em;position: relative;}#sk-container-id-55 div.sk-item {position: relative;z-index: 1;}#sk-container-id-55 div.sk-parallel {display: flex;align-items: stretch;justify-content: center;background-color: white;position: relative;}#sk-container-id-55 div.sk-item::before, #sk-container-id-55 div.sk-parallel-item::before {content: \"\";position: absolute;border-left: 1px solid gray;box-sizing: border-box;top: 0;bottom: 0;left: 50%;z-index: -1;}#sk-container-id-55 div.sk-parallel-item {display: flex;flex-direction: column;z-index: 1;position: relative;background-color: white;}#sk-container-id-55 div.sk-parallel-item:first-child::after {align-self: flex-end;width: 50%;}#sk-container-id-55 div.sk-parallel-item:last-child::after {align-self: flex-start;width: 50%;}#sk-container-id-55 div.sk-parallel-item:only-child::after {width: 0;}#sk-container-id-55 div.sk-dashed-wrapped {border: 1px dashed gray;margin: 0 0.4em 0.5em 0.4em;box-sizing: border-box;padding-bottom: 0.4em;background-color: white;}#sk-container-id-55 div.sk-label label {font-family: monospace;font-weight: bold;display: inline-block;line-height: 1.2em;}#sk-container-id-55 div.sk-label-container {text-align: center;}#sk-container-id-55 div.sk-container {/* jupyter's `normalize.less` sets `[hidden] { display: none; }` but bootstrap.min.css set `[hidden] { display: none !important; }` so we also need the `!important` here to be able to override the default hidden behavior on the sphinx rendered scikit-learn.org. See: https://github.com/scikit-learn/scikit-learn/issues/21755 */display: inline-block !important;position: relative;}#sk-container-id-55 div.sk-text-repr-fallback {display: none;}</style><div id=\"sk-container-id-55\" class=\"sk-top-container\"><div class=\"sk-text-repr-fallback\"><pre>GaussianNB()</pre><b>In a Jupyter environment, please rerun this cell to show the HTML representation or trust the notebook. <br />On GitHub, the HTML representation is unable to render, please try loading this page with nbviewer.org.</b></div><div class=\"sk-container\" hidden><div class=\"sk-item\"><div class=\"sk-estimator sk-toggleable\"><input class=\"sk-toggleable__control sk-hidden--visually\" id=\"sk-estimator-id-55\" type=\"checkbox\" checked><label for=\"sk-estimator-id-55\" class=\"sk-toggleable__label sk-toggleable__label-arrow\">GaussianNB</label><div class=\"sk-toggleable__content\"><pre>GaussianNB()</pre></div></div></div></div></div>"
      ],
      "text/plain": [
       "GaussianNB()"
      ]
     },
     "execution_count": 533,
     "metadata": {},
     "output_type": "execute_result"
    }
   ],
   "source": [
    "from sklearn.naive_bayes import GaussianNB\n",
    "classifier = GaussianNB()\n",
    "classifier.fit(X_train, y_train)"
   ]
  },
  {
   "cell_type": "code",
   "execution_count": 534,
   "id": "86469dcd",
   "metadata": {},
   "outputs": [
    {
     "name": "stdout",
     "output_type": "stream",
     "text": [
      "[[44 51]\n",
      " [38 72]]\n",
      "Accuracy: 56.59%\n"
     ]
    }
   ],
   "source": [
    "from sklearn.metrics import confusion_matrix, accuracy_score\n",
    "y_pred = classifier.predict(X_test)\n",
    "cm = confusion_matrix(y_test, y_pred)\n",
    "print(cm)\n",
    "accuracy =accuracy_score(y_test, y_pred)\n",
    "print(f\"Accuracy: {accuracy * 100:.2f}%\")"
   ]
  }
 ],
 "metadata": {
  "kernelspec": {
   "display_name": "Python 3 (ipykernel)",
   "language": "python",
   "name": "python3"
  },
  "language_info": {
   "codemirror_mode": {
    "name": "ipython",
    "version": 3
   },
   "file_extension": ".py",
   "mimetype": "text/x-python",
   "name": "python",
   "nbconvert_exporter": "python",
   "pygments_lexer": "ipython3",
   "version": "3.11.4"
  }
 },
 "nbformat": 4,
 "nbformat_minor": 5
}
